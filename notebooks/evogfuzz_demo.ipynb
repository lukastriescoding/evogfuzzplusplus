{
 "cells": [
  {
   "cell_type": "markdown",
   "metadata": {},
   "source": [
    "# EvoGFuzz: An Evolutionary Approach to Grammar-Based Fuzzing\n",
    "\n",
    "**EvoGFuzz** stands for *evolutionary grammar-based fuzzing*. This approach leverages evolutionary optimization techniques to systematically explore the space of a program's potential inputs, with a particular emphasis on identifying inputs that could lead to exceptional behavior. With a user-defined objective, EvoGFuzz can adapt and refine the input generation strategy over time, making it a powerful tool for uncovering software defects and vulnerabilities.\n",
    "\n",
    "Efficient detection of defects and vulnerabilities hinges on the ability to automatically generate program inputs that are both valid and diverse. One common strategy is to use grammars, which provide structured and syntactically correct inputs. This approach leads to the concept of grammar-based fuzzing, where fuzzing strategies are guided by the rules defined within the grammar.\n",
    "\n",
    "A further enhancement to this concept is probabilistic grammar-based fuzzing, where competing grammar rules are associated with probabilities that guide their application. By carefully assigning and optimizing these probabilities, we gain considerable control over the nature of the generated inputs. This enables us to direct the fuzzing process towards specific areas of interest—for example, those functions that are deemed critical, have a higher propensity for failures, or have undergone recent modifications. \n",
    "\n",
    "In essence, EvoGFuzz represents a potent blend of evolutionary optimization and probabilistic grammar-based fuzzing, poised to reveal hidden defects and vulnerabilities in a targeted and efficient manner."
   ]
  },
  {
   "cell_type": "markdown",
   "metadata": {},
   "source": [
    "## Fuzzing a Program"
   ]
  },
  {
   "cell_type": "markdown",
   "metadata": {},
   "source": [
    "Our program under investigation is `The Calculator`. This program acts as a typical calculator, capable of evaluating not just arithmetic expressions but also trigonometric functions, such as sine, cosine, and tangent. Furthermore, it also supports the calculation of the square root of a given number."
   ]
  },
  {
   "cell_type": "code",
   "execution_count": 1,
   "metadata": {},
   "outputs": [],
   "source": [
    "import math\n",
    "\n",
    "def calculator(inp: str) -> float:\n",
    "    \"\"\"\n",
    "        A simple calculator function that can evaluate arithmetic expressions \n",
    "        and perform basic trigonometric functions and square root calculations.\n",
    "    \"\"\"\n",
    "    return eval(\n",
    "        str(inp), {\"sqrt\": math.sqrt, \"sin\": math.sin, \"cos\": math.cos, \"tan\": math.tan}\n",
    "    )"
   ]
  },
  {
   "cell_type": "markdown",
   "metadata": {},
   "source": [
    "**Side Note:** In the `calculator`, we use Python's `eval` function, which takes a string and evaluates it as a Python expression. We provide a dictionary as the second argument to eval, mapping names to corresponding mathematical functions. This enables us to use the function names directly within the input string. "
   ]
  },
  {
   "cell_type": "code",
   "execution_count": 2,
   "metadata": {},
   "outputs": [
    {
     "name": "stdout",
     "output_type": "stream",
     "text": [
      "0.999993677717667\n"
     ]
    }
   ],
   "source": [
    "# Evaluating the cosine of 2π\n",
    "print(calculator('cos(6*3.141)'))"
   ]
  },
  {
   "cell_type": "code",
   "execution_count": 3,
   "metadata": {},
   "outputs": [
    {
     "name": "stdout",
     "output_type": "stream",
     "text": [
      "6.0\n"
     ]
    }
   ],
   "source": [
    "# Calculating the square root of 36\n",
    "print(calculator('sqrt(6*6)'))"
   ]
  },
  {
   "cell_type": "markdown",
   "metadata": {},
   "source": [
    "Each of these calls to the calculator will evaluate the provided string as a mathematical expression, and print the result."
   ]
  },
  {
   "cell_type": "markdown",
   "metadata": {},
   "source": [
    "Now, to find new defects, we need to introduce an oracle that tells us if the error that is triggered is something we expect or a new/unkonwn defect. The `OracleResult` is an enum with two possible values, `NO_BUG` and `BUG`. `NO_BUG` donates a passing test case and `BUG` a failing one."
   ]
  },
  {
   "cell_type": "markdown",
   "metadata": {},
   "source": [
    "We import the `OracleResult` enumerated type from the `evogfuzz` library. This is used in the oracle function to indicate the outcome of executing the 'calculator' function with a given input."
   ]
  },
  {
   "cell_type": "code",
   "execution_count": 4,
   "metadata": {},
   "outputs": [],
   "source": [
    "from debugging_framework.input.oracle import OracleResult"
   ]
  },
  {
   "cell_type": "markdown",
   "metadata": {},
   "source": [
    "This is a function called **oracle**, which acts as an intermediary to handle and classify exceptions produced by the calculator function when given a certain input."
   ]
  },
  {
   "cell_type": "code",
   "execution_count": 5,
   "metadata": {},
   "outputs": [],
   "source": [
    "# Make sure you use the OracleResult from the debugging_framework library\n",
    "from debugging_framework.input.oracle import OracleResult\n",
    "\n",
    "def oracle(inp: str):\n",
    "    \"\"\"\n",
    "    This function serves as an oracle or intermediary that catches and handles exceptions \n",
    "    generated by the 'calculator' function. The oracle function is used in the context of fuzz testing.\n",
    "    It aims to determine whether an input triggers a bug in the 'calculator' function.\n",
    "\n",
    "    Args:\n",
    "        inp (str): The input string to be passed to the 'calculator' function.\n",
    "\n",
    "    Returns:\n",
    "        OracleResult: An enumerated type 'OracleResult' indicating the outcome of the function execution.\n",
    "            - OracleResult.PASSING: Returned if the calculator function executes without any exception or only with CalculatorSyntaxError\n",
    "            - OracleResult.FAILING: Returned if the calculator function raises a ValueError exception, indicating a potential bug.\n",
    "    \"\"\"\n",
    "    try:\n",
    "        calculator(inp)\n",
    "    except ValueError as e:\n",
    "        return OracleResult.FAILING\n",
    "    \n",
    "    return OracleResult.PASSING"
   ]
  },
  {
   "cell_type": "markdown",
   "metadata": {},
   "source": [
    "This **oracle** function is used in the context of fuzzing to determine the impact of various inputs on the program under test (in our case the _calculator_). When the calculator function behaves as expected (i.e., no exceptions occur), the **oracle** function returns `OracleResult.NO_BUG`. However, when the `calculator` function raises an unexpected exception, the **oracle** interprets this as a potential bug in the `calculator` and returns `OracleResult.BUG`."
   ]
  },
  {
   "cell_type": "markdown",
   "metadata": {},
   "source": [
    "We can see this in action by testing a few initial inputs:"
   ]
  },
  {
   "cell_type": "code",
   "execution_count": 6,
   "metadata": {},
   "outputs": [
    {
     "name": "stdout",
     "output_type": "stream",
     "text": [
      "sqrt(1)              PASSING\n",
      "cos(912)             PASSING\n",
      "tan(4)               PASSING\n"
     ]
    }
   ],
   "source": [
    "initial_inputs = ['sqrt(1)', 'cos(912)', 'tan(4)']\n",
    "\n",
    "for inp in initial_inputs:\n",
    "    print(inp.ljust(20), oracle(inp))"
   ]
  },
  {
   "cell_type": "markdown",
   "metadata": {},
   "source": [
    "The following code represents a simple context-free grammar for our calculator function. This grammar encompasses all the potential valid inputs to the calculator, which include mathematical expressions involving square roots, trigonometric functions, and integer and decimal numbers:"
   ]
  },
  {
   "cell_type": "code",
   "execution_count": 7,
   "metadata": {},
   "outputs": [],
   "source": [
    "from debugging_framework.types import Grammar\n",
    "from debugging_framework.fuzzingbook.grammar import is_valid_grammar\n",
    "\n",
    "CALCGRAMMAR: Grammar = {\n",
    "    \"<start>\":\n",
    "        [\"<function>(<term>)\"],\n",
    "\n",
    "    \"<function>\":\n",
    "        [\"sqrt\", \"tan\", \"cos\", \"sin\"],\n",
    "    \n",
    "    \"<term>\": [\"-<value>\", \"<value>\"], \n",
    "    \n",
    "    \"<value>\":\n",
    "        [\"<integer>.<integer>\",\n",
    "         \"<integer>\"],\n",
    "\n",
    "    \"<integer>\":\n",
    "        [\"<digit><integer>\", \"<digit>\"],\n",
    "\n",
    "    \"<digit>\":\n",
    "        [\"1\", \"2\", \"3\", \"4\", \"5\", \"6\", \"7\", \"8\", \"9\"]\n",
    "}\n",
    "    \n",
    "assert is_valid_grammar(CALCGRAMMAR)"
   ]
  },
  {
   "cell_type": "markdown",
   "metadata": {},
   "source": [
    "The defined grammar CALCGRAMMAR provides a structured blueprint for creating various inputs for our fuzz testing. Each rule in this grammar reflects a possible valid input that our calculator function can handle. By fuzzing based on this grammar, we can systematically explore the space of valid inputs to the calculator function."
   ]
  },
  {
   "cell_type": "markdown",
   "metadata": {},
   "source": [
    "### Leveraging EvoGFuzz to Unearth New Defects\n",
    "\n",
    "We apply our `EvoGFuzz` class to carry out fuzz testing using evolutionary grammar-based fuzzing. This is aimed at uncovering potential defects in our 'calculator' function.\n",
    "\n",
    "To initialize our EvoGFuzz instance, we require a grammar (in our case, `CALCGRAMMAR`), an oracle function, an initial set of inputs, a fitness function, and the number of iterations to be performed in the fuzzing process.\n",
    "\n",
    "Upon creating the `EvoGFuzz` instance, we can execute the fuzzing process. The `fuzz()` method runs the fuzzing iterations, evolving the inputs based on our fitness function, and returns a collection of inputs that lead to exceptions in the 'calculator' function."
   ]
  },
  {
   "cell_type": "code",
   "execution_count": 8,
   "metadata": {},
   "outputs": [],
   "source": [
    "from evogfuzz.evogfuzz_class import EvoGFuzz\n",
    "\n",
    "epp = EvoGFuzz(\n",
    "    grammar=CALCGRAMMAR,\n",
    "    oracle=oracle,\n",
    "    inputs=initial_inputs,\n",
    "    iterations=10\n",
    ")"
   ]
  },
  {
   "cell_type": "markdown",
   "metadata": {},
   "source": [
    "Upon creating the `EvoGFuzz` instance, we can execute the fuzzing process. The `.fuzz()` method runs the fuzzing iterations, evolving the inputs based on our fitness function, and returns a collection of inputs that lead to exceptions in the 'calculator' function."
   ]
  },
  {
   "cell_type": "code",
   "execution_count": 9,
   "metadata": {},
   "outputs": [
    {
     "name": "stdout",
     "output_type": "stream",
     "text": [
      "EvoGFuzz found 407 bug-triggering inputs!\n"
     ]
    }
   ],
   "source": [
    "found_exception_inputs = epp.fuzz()\n",
    "print(f\"EvoGFuzz found {len(found_exception_inputs)} bug-triggering inputs!\")"
   ]
  },
  {
   "cell_type": "markdown",
   "metadata": {},
   "source": [
    "Lastly, we can examine the inputs that resulted in exceptions. This output can provide valuable insight into potential weaknesses in the 'calculator' function that need to be addressed."
   ]
  },
  {
   "cell_type": "code",
   "execution_count": 10,
   "metadata": {},
   "outputs": [
    {
     "name": "stdout",
     "output_type": "stream",
     "text": [
      "sqrt(-7674.817)\n",
      "sqrt(-7787.283244)\n",
      "sqrt(-18499111.171)\n",
      "sqrt(-85.9)\n",
      "sqrt(-5619)\n",
      "sqrt(-5.4436)\n",
      "sqrt(-3)\n",
      "sqrt(-49.2775)\n",
      "sqrt(-277.83)\n",
      "sqrt(-8)\n",
      "sqrt(-4.77)\n",
      "sqrt(-75459.545929)\n",
      "sqrt(-4.579)\n",
      "sqrt(-2.676777)\n",
      "sqrt(-441)\n",
      "sqrt(-928)\n",
      "sqrt(-61.98)\n",
      "sqrt(-84548.7)\n",
      "sqrt(-95759.9981)\n",
      "sqrt(-5784.8)\n"
     ]
    }
   ],
   "source": [
    "# print only the first 20 bug-triggering inputs\n",
    "for inp in list(found_exception_inputs)[:20]:\n",
    "    print(str(inp))"
   ]
  },
  {
   "cell_type": "markdown",
   "metadata": {},
   "source": [
    "This process illustrates the power of evolutionary grammar-based fuzzing in identifying new defects within our system. By applying evolutionary algorithms to our fuzzing strategy, we can guide the search towards more defect-prone regions of the input space."
   ]
  },
  {
   "cell_type": "markdown",
   "metadata": {},
   "source": [
    "#### Analyzing and Sorting All Generated Inputs by Fitness"
   ]
  },
  {
   "cell_type": "markdown",
   "metadata": {},
   "source": [
    "After the fuzzing process, you may want to examine all the generated inputs. These can be accessed using the `get_all_inputs()` method. Additionally, we can sort these inputs based on their fitness scores to gain insights into which inputs performed best according to our fitness function."
   ]
  },
  {
   "cell_type": "code",
   "execution_count": 11,
   "metadata": {},
   "outputs": [],
   "source": [
    "all_generated_inputs = epp.get_all_inputs()\n",
    "all_generated_inputs_sorted = sorted(all_generated_inputs, key=lambda inp: inp.fitness, reverse=True)"
   ]
  },
  {
   "cell_type": "markdown",
   "metadata": {},
   "source": [
    "Now, let's print out these sorted inputs along with their respective fitness scores. Inputs with higher fitness scores will be displayed first, as these are the ones our evolutionary process deemed more likely to uncover potential defects."
   ]
  },
  {
   "cell_type": "code",
   "execution_count": 12,
   "metadata": {},
   "outputs": [
    {
     "name": "stdout",
     "output_type": "stream",
     "text": [
      "sqrt(-7787.283244)                       fitness: 1\n",
      "sqrt(-7674.817)                          fitness: 1\n",
      "sqrt(-18499111.171)                      fitness: 1\n",
      "sqrt(-85.9)                              fitness: 1\n",
      "sqrt(-5619)                              fitness: 1\n",
      "sqrt(-5.4436)                            fitness: 1\n",
      "sqrt(-3)                                 fitness: 1\n",
      "sqrt(-8)                                 fitness: 1\n",
      "sqrt(-49.2775)                           fitness: 1\n",
      "sqrt(-2.676777)                          fitness: 1\n",
      "sqrt(-4.77)                              fitness: 1\n",
      "sqrt(-277.83)                            fitness: 1\n",
      "sqrt(-75459.545929)                      fitness: 1\n",
      "sqrt(-4.579)                             fitness: 1\n",
      "sqrt(-441)                               fitness: 1\n",
      "sqrt(-928)                               fitness: 1\n",
      "sqrt(-61.98)                             fitness: 1\n",
      "sqrt(-84548.7)                           fitness: 1\n",
      "sqrt(-95759.9981)                        fitness: 1\n",
      "sqrt(-5784.8)                            fitness: 1\n"
     ]
    }
   ],
   "source": [
    "# investigate only the first 20 bug-triggering inputs\n",
    "for inp in all_generated_inputs_sorted[:20]:\n",
    "    print(f\"{str(inp).ljust(40)} fitness: {inp.fitness}\")"
   ]
  },
  {
   "cell_type": "markdown",
   "metadata": {},
   "source": [
    "This output provides an overview of the evolved inputs and their effectiveness in revealing potential defects, as gauged by our fitness function. It is a valuable resource for understanding the behavior of our program under various inputs and the effectiveness of our evolutionary grammar-based fuzzing approach."
   ]
  },
  {
   "cell_type": "code",
   "execution_count": 13,
   "metadata": {},
   "outputs": [],
   "source": [
    "from evogfuzz.input import Input\n",
    "\n",
    "def fitness_function_naive(test_input: Input) -> int:\n",
    "    score_structure = len(str(test_input))\n",
    "    if test_input.oracle == OracleResult.FAILING:\n",
    "        score_feedback = 100\n",
    "    else:\n",
    "        score_feedback = 0\n",
    "    return score_feedback + score_structure"
   ]
  },
  {
   "cell_type": "code",
   "execution_count": 14,
   "metadata": {},
   "outputs": [
    {
     "name": "stdout",
     "output_type": "stream",
     "text": [
      "EvoGFuzz found 370 bug-triggering inputs!\n"
     ]
    }
   ],
   "source": [
    "epp = EvoGFuzz(\n",
    "    grammar=CALCGRAMMAR,\n",
    "    oracle=oracle,\n",
    "    inputs=initial_inputs,\n",
    "    fitness_function=fitness_function_naive,\n",
    "    iterations=10\n",
    ")\n",
    "\n",
    "found_exception_inputs = epp.fuzz()\n",
    "\n",
    "print(f\"EvoGFuzz found {len(found_exception_inputs)} bug-triggering inputs!\")"
   ]
  },
  {
   "cell_type": "code",
   "execution_count": 15,
   "metadata": {},
   "outputs": [],
   "source": [
    "all_generated_inputs = epp.get_all_inputs()\n",
    "all_generated_inputs_sorted = sorted(all_generated_inputs, key=lambda inp: inp.fitness, reverse=True)"
   ]
  },
  {
   "cell_type": "code",
   "execution_count": 16,
   "metadata": {},
   "outputs": [
    {
     "name": "stdout",
     "output_type": "stream",
     "text": [
      "sqrt(-575.93759571669933132312911655553574916764591) fitness: 152\n",
      "sqrt(-572195155538.3945343754919331479365535353499) fitness: 151\n",
      "sqrt(-997113336573179945214945252937.4537966) fitness: 145\n",
      "sqrt(-541475441782313811314939951144.235524) fitness: 144\n",
      "sqrt(-3494694292775413917517936613.4135759) fitness: 143\n",
      "sqrt(-63333569712545178769739563435797.4) fitness: 141\n",
      "sqrt(-554.33461165854946554379255563975) fitness: 140\n",
      "sqrt(-5665412949113488.337394817317)     fitness: 136\n",
      "sqrt(-3129539873637463773.34259539)      fitness: 135\n",
      "sqrt(-56759.33843396673497437549)        fitness: 133\n",
      "sqrt(-751945491579733.759655927)         fitness: 132\n",
      "sqrt(-39949227769947755919.696)          fitness: 131\n",
      "sqrt(-4771214465517349.435587)           fitness: 130\n",
      "sqrt(-418711245.3185353444435)           fitness: 130\n",
      "sqrt(-511351555974719.6937633)           fitness: 130\n",
      "sqrt(-22133317962631595257.79)           fitness: 130\n",
      "sqrt(-559375228397.9556577113)           fitness: 130\n",
      "sqrt(-9.442119114944911194429)           fitness: 130\n",
      "sqrt(-25.33414494823533434811)           fitness: 130\n",
      "sqrt(-59475639.77541433546115)           fitness: 130\n"
     ]
    }
   ],
   "source": [
    "# investigate only the first 20 bug-triggering inputs\n",
    "for inp in all_generated_inputs_sorted[:20]:\n",
    "    print(f\"{str(inp).ljust(40)} fitness: {inp.fitness}\")"
   ]
  },
  {
   "cell_type": "code",
   "execution_count": 17,
   "metadata": {},
   "outputs": [],
   "source": [
    "from evogfuzz.input import Input\n",
    "\n",
    "def fitness_function_expansions(test_input: Input) -> int:\n",
    "    score_structure = len(str(test_input))\n",
    "    if test_input.oracle == OracleResult.FAILING:\n",
    "        score_feedback = 100\n",
    "    else:\n",
    "        score_feedback = 0\n",
    "    return score_feedback + score_structure"
   ]
  },
  {
   "cell_type": "code",
   "execution_count": 18,
   "metadata": {},
   "outputs": [
    {
     "name": "stdout",
     "output_type": "stream",
     "text": [
      "EvoGFuzz found 226 bug-triggering inputs!\n"
     ]
    }
   ],
   "source": [
    "epp = EvoGFuzz(\n",
    "    grammar=CALCGRAMMAR,\n",
    "    oracle=oracle,\n",
    "    inputs=initial_inputs,\n",
    "    fitness_function=fitness_function_expansions,\n",
    "    iterations=10\n",
    ")\n",
    "\n",
    "found_exception_inputs = epp.fuzz()\n",
    "\n",
    "print(f\"EvoGFuzz found {len(found_exception_inputs)} bug-triggering inputs!\")"
   ]
  },
  {
   "cell_type": "code",
   "execution_count": 19,
   "metadata": {},
   "outputs": [],
   "source": [
    "all_generated_inputs = epp.get_all_inputs()\n",
    "all_generated_inputs_sorted = sorted(all_generated_inputs, key=lambda inp: inp.fitness, reverse=True)"
   ]
  },
  {
   "cell_type": "code",
   "execution_count": 91,
   "metadata": {},
   "outputs": [],
   "source": [
    "def count_expansions(children):\n",
    "    counter = 0\n",
    "    if children == []:\n",
    "        return -1\n",
    "    \n",
    "    for child in children:\n",
    "        node, next_child = child\n",
    "        print(node)\n",
    "        print(next_child)\n",
    "\n",
    "        counter += 1\n",
    "        \n",
    "        print(counter)\n",
    "        counter += count_expansions(next_child)\n",
    "        print(\"\\n\")\n",
    "        print(node)\n",
    "        print(counter)\n",
    "        print(\"\\n\")\n",
    "    \n",
    "    return counter"
   ]
  },
  {
   "cell_type": "code",
   "execution_count": 92,
   "metadata": {},
   "outputs": [
    {
     "name": "stdout",
     "output_type": "stream",
     "text": [
      "<start>\n",
      "[DerivationTree('<function>', (DerivationTree('cos', (), id=99648),), id=99649), DerivationTree('(', (), id=99647), DerivationTree('<term>', (DerivationTree('<value>', (DerivationTree('<integer>', (DerivationTree('<digit>', (DerivationTree('7', (), id=99642),), id=99643),), id=99644), DerivationTree('.', (), id=99641), DerivationTree('<integer>', (DerivationTree('<digit>', (DerivationTree('2', (), id=99638),), id=99639), DerivationTree('<integer>', (DerivationTree('<digit>', (DerivationTree('6', (), id=99635),), id=99636),), id=99637)), id=99640)), id=99645),), id=99646), DerivationTree(')', (), id=99634)]\n",
      "1\n",
      "<function>\n",
      "[DerivationTree('cos', (), id=99648)]\n",
      "1\n",
      "cos\n",
      "[]\n",
      "1\n",
      "\n",
      "\n",
      "cos\n",
      "-1\n",
      "\n",
      "\n",
      "\n",
      "\n",
      "<function>\n",
      "1\n",
      "\n",
      "\n",
      "(\n",
      "[]\n",
      "2\n",
      "\n",
      "\n",
      "(\n",
      "0\n",
      "\n",
      "\n",
      "<term>\n",
      "[DerivationTree('<value>', (DerivationTree('<integer>', (DerivationTree('<digit>', (DerivationTree('7', (), id=99642),), id=99643),), id=99644), DerivationTree('.', (), id=99641), DerivationTree('<integer>', (DerivationTree('<digit>', (DerivationTree('2', (), id=99638),), id=99639), DerivationTree('<integer>', (DerivationTree('<digit>', (DerivationTree('6', (), id=99635),), id=99636),), id=99637)), id=99640)), id=99645)]\n",
      "1\n",
      "<value>\n",
      "[DerivationTree('<integer>', (DerivationTree('<digit>', (DerivationTree('7', (), id=99642),), id=99643),), id=99644), DerivationTree('.', (), id=99641), DerivationTree('<integer>', (DerivationTree('<digit>', (DerivationTree('2', (), id=99638),), id=99639), DerivationTree('<integer>', (DerivationTree('<digit>', (DerivationTree('6', (), id=99635),), id=99636),), id=99637)), id=99640)]\n",
      "1\n",
      "<integer>\n",
      "[DerivationTree('<digit>', (DerivationTree('7', (), id=99642),), id=99643)]\n",
      "1\n",
      "<digit>\n",
      "[DerivationTree('7', (), id=99642)]\n",
      "1\n",
      "7\n",
      "[]\n",
      "1\n",
      "\n",
      "\n",
      "7\n",
      "-1\n",
      "\n",
      "\n",
      "\n",
      "\n",
      "<digit>\n",
      "1\n",
      "\n",
      "\n",
      "\n",
      "\n",
      "<integer>\n",
      "3\n",
      "\n",
      "\n",
      ".\n",
      "[]\n",
      "4\n",
      "\n",
      "\n",
      ".\n",
      "2\n",
      "\n",
      "\n",
      "<integer>\n",
      "[DerivationTree('<digit>', (DerivationTree('2', (), id=99638),), id=99639), DerivationTree('<integer>', (DerivationTree('<digit>', (DerivationTree('6', (), id=99635),), id=99636),), id=99637)]\n",
      "3\n",
      "<digit>\n",
      "[DerivationTree('2', (), id=99638)]\n",
      "1\n",
      "2\n",
      "[]\n",
      "1\n",
      "\n",
      "\n",
      "2\n",
      "-1\n",
      "\n",
      "\n",
      "\n",
      "\n",
      "<digit>\n",
      "1\n",
      "\n",
      "\n",
      "<integer>\n",
      "[DerivationTree('<digit>', (DerivationTree('6', (), id=99635),), id=99636)]\n",
      "2\n",
      "<digit>\n",
      "[DerivationTree('6', (), id=99635)]\n",
      "1\n",
      "6\n",
      "[]\n",
      "1\n",
      "\n",
      "\n",
      "6\n",
      "-1\n",
      "\n",
      "\n",
      "\n",
      "\n",
      "<digit>\n",
      "1\n",
      "\n",
      "\n",
      "\n",
      "\n",
      "<integer>\n",
      "4\n",
      "\n",
      "\n",
      "\n",
      "\n",
      "<integer>\n",
      "8\n",
      "\n",
      "\n",
      "\n",
      "\n",
      "<value>\n",
      "10\n",
      "\n",
      "\n",
      "\n",
      "\n",
      "<term>\n",
      "12\n",
      "\n",
      "\n",
      ")\n",
      "[]\n",
      "13\n",
      "\n",
      "\n",
      ")\n",
      "11\n",
      "\n",
      "\n",
      "\n",
      "\n",
      "<start>\n",
      "13\n",
      "\n",
      "\n",
      "14\n",
      "<start>\n",
      "[DerivationTree('<function>', (DerivationTree('cos', (), id=88019),), id=88020), DerivationTree('(', (), id=88018), DerivationTree('<term>', (DerivationTree('<value>', (DerivationTree('<integer>', (DerivationTree('<digit>', (DerivationTree('1', (), id=88013),), id=88014), DerivationTree('<integer>', (DerivationTree('<digit>', (DerivationTree('9', (), id=88010),), id=88011),), id=88012)), id=88015),), id=88016),), id=88017), DerivationTree(')', (), id=88009)]\n",
      "1\n",
      "<function>\n",
      "[DerivationTree('cos', (), id=88019)]\n",
      "1\n",
      "cos\n",
      "[]\n",
      "1\n",
      "\n",
      "\n",
      "cos\n",
      "-1\n",
      "\n",
      "\n",
      "\n",
      "\n",
      "<function>\n",
      "1\n",
      "\n",
      "\n",
      "(\n",
      "[]\n",
      "2\n",
      "\n",
      "\n",
      "(\n",
      "0\n",
      "\n",
      "\n",
      "<term>\n",
      "[DerivationTree('<value>', (DerivationTree('<integer>', (DerivationTree('<digit>', (DerivationTree('1', (), id=88013),), id=88014), DerivationTree('<integer>', (DerivationTree('<digit>', (DerivationTree('9', (), id=88010),), id=88011),), id=88012)), id=88015),), id=88016)]\n",
      "1\n",
      "<value>\n",
      "[DerivationTree('<integer>', (DerivationTree('<digit>', (DerivationTree('1', (), id=88013),), id=88014), DerivationTree('<integer>', (DerivationTree('<digit>', (DerivationTree('9', (), id=88010),), id=88011),), id=88012)), id=88015)]\n",
      "1\n",
      "<integer>\n",
      "[DerivationTree('<digit>', (DerivationTree('1', (), id=88013),), id=88014), DerivationTree('<integer>', (DerivationTree('<digit>', (DerivationTree('9', (), id=88010),), id=88011),), id=88012)]\n",
      "1\n",
      "<digit>\n",
      "[DerivationTree('1', (), id=88013)]\n",
      "1\n",
      "1\n",
      "[]\n",
      "1\n",
      "\n",
      "\n",
      "1\n",
      "-1\n",
      "\n",
      "\n",
      "\n",
      "\n",
      "<digit>\n",
      "1\n",
      "\n",
      "\n",
      "<integer>\n",
      "[DerivationTree('<digit>', (DerivationTree('9', (), id=88010),), id=88011)]\n",
      "2\n",
      "<digit>\n",
      "[DerivationTree('9', (), id=88010)]\n",
      "1\n",
      "9\n",
      "[]\n",
      "1\n",
      "\n",
      "\n",
      "9\n",
      "-1\n",
      "\n",
      "\n",
      "\n",
      "\n",
      "<digit>\n",
      "1\n",
      "\n",
      "\n",
      "\n",
      "\n",
      "<integer>\n",
      "4\n",
      "\n",
      "\n",
      "\n",
      "\n",
      "<integer>\n",
      "6\n",
      "\n",
      "\n",
      "\n",
      "\n",
      "<value>\n",
      "8\n",
      "\n",
      "\n",
      "\n",
      "\n",
      "<term>\n",
      "10\n",
      "\n",
      "\n",
      ")\n",
      "[]\n",
      "11\n",
      "\n",
      "\n",
      ")\n",
      "9\n",
      "\n",
      "\n",
      "\n",
      "\n",
      "<start>\n",
      "11\n",
      "\n",
      "\n",
      "12\n"
     ]
    }
   ],
   "source": [
    "# investigate only the first 20 bug-triggering inputs\n",
    "for inp in all_generated_inputs_sorted[:2]:\n",
    "    node, children = inp.tree # derivation tree; node -> children; example: <start> -> <function>(<term>)... \n",
    "    #print(node, children)\n",
    "    counter_exp = count_expansions([inp.tree])\n",
    "    print(counter_exp)\n",
    "\n",
    "node, children = all_generated_inputs_sorted[0].tree\n",
    "#print(str(all_generated_inputs_sorted[0]) + \"\\n\")\n",
    "#print(node)\n",
    "#print(\"\\n\")\n",
    "#print(children)\n",
    "#print(\"\\n\")\n",
    "for child in children:\n",
    "    node, child1 =child\n",
    "#    print(node)\n",
    "#    print(child1)\n",
    "#    print(\"\\n\")\n",
    "    \n",
    "    #print(f\"{str(inp).ljust(40)} fitness: {inp.fitness}\")"
   ]
  },
  {
   "cell_type": "markdown",
   "metadata": {},
   "source": [
    "### Incorporating Custom Fitness Functions\n",
    "\n",
    "The fitness function plays a crucial role in guiding the evolution process of our fuzzing inputs. A well-crafted fitness function can effectively direct the search towards the most promising regions of the input space.\n",
    "\n",
    "To create your own fitness function, define a function that takes an `Input` instance and returns a float value. The return value represents the 'fitness' of the given input, with higher values indicating better fitness. Here is a simple template:\n",
    "\n",
    "```python\n",
    "from evogfuzz.input import Input\n",
    "\n",
    "def fitness_function_XYZ(inp: Input) -> float:\n",
    "    # Implement your fitness function here.\n",
    "    return 0.0\n",
    "```"
   ]
  },
  {
   "cell_type": "markdown",
   "metadata": {},
   "source": [
    "For instance, suppose we're interested in inputs that invoke the cosine function in our calculator. We could define a fitness function `fitness_function_cos` that assigns a high fitness value to inputs containing 'cos'. (**Note that this might not be the best fitness function to find new expcetions.**)"
   ]
  },
  {
   "cell_type": "code",
   "execution_count": 21,
   "metadata": {},
   "outputs": [],
   "source": [
    "from evogfuzz.input import Input\n",
    "\n",
    "def fitness_function_cos(inp: Input) -> float:\n",
    "    if 'cos' in str(inp):\n",
    "        return 1.0\n",
    "    else:\n",
    "        return 0.0"
   ]
  },
  {
   "cell_type": "markdown",
   "metadata": {},
   "source": [
    "Once your fitness function is defined, you can incorporate it into the `EvoGFuzz` instance by passing it as the `fitness_function` argument. "
   ]
  },
  {
   "cell_type": "code",
   "execution_count": 22,
   "metadata": {},
   "outputs": [
    {
     "name": "stdout",
     "output_type": "stream",
     "text": [
      "EvoGFuzz found 14 bug-triggering inputs!\n",
      "sqrt(-7.66)\n",
      "sqrt(-1.12)\n",
      "sqrt(-766.2)\n",
      "sqrt(-6.1667)\n",
      "sqrt(-7.2857)\n",
      "sqrt(-6.2)\n",
      "sqrt(-7272.11)\n",
      "sqrt(-6)\n",
      "sqrt(-22.472)\n",
      "sqrt(-211272222.266)\n",
      "sqrt(-2)\n",
      "sqrt(-67.5)\n",
      "sqrt(-66.72)\n",
      "sqrt(-7)\n"
     ]
    }
   ],
   "source": [
    "epp = EvoGFuzz(\n",
    "    grammar=CALCGRAMMAR,\n",
    "    oracle=oracle,\n",
    "    inputs=initial_inputs,\n",
    "    fitness_function=fitness_function_cos,\n",
    "    iterations=10\n",
    ")\n",
    "\n",
    "found_exception_inputs = epp.fuzz()\n",
    "\n",
    "print(f\"EvoGFuzz found {len(found_exception_inputs)} bug-triggering inputs!\")\n",
    "\n",
    "for inp in found_exception_inputs:\n",
    "    print(str(inp))"
   ]
  },
  {
   "cell_type": "markdown",
   "metadata": {},
   "source": [
    "This way, the evolutionary grammar-based fuzzing process is now guided by your custom fitness function, focusing more on the areas you deem critical."
   ]
  },
  {
   "cell_type": "markdown",
   "metadata": {},
   "source": [
    "#### Evaluating Inputs Based on Custom Fitness Function"
   ]
  },
  {
   "cell_type": "markdown",
   "metadata": {},
   "source": [
    "When utilizing a custom fitness function, such as `fitness_function_cos` in our case, we expect inputs containing 'cos' to achieve the highest fitness scores. This is because our fitness function assigns a score of 1.0 to any input that includes 'cos'.\n",
    "\n",
    "To confirm this behavior, we retrieve all inputs generated during the fuzzing process using the `get_all_inputs()` method and sort these inputs based on their fitness scores."
   ]
  },
  {
   "cell_type": "code",
   "execution_count": 23,
   "metadata": {},
   "outputs": [],
   "source": [
    "all_generated_inputs = epp.get_all_inputs()\n",
    "all_generated_inputs_sorted = sorted(all_generated_inputs, key=lambda inp: inp.fitness, reverse=True)"
   ]
  },
  {
   "cell_type": "markdown",
   "metadata": {},
   "source": [
    "Let's display these sorted inputs along with their fitness scores. The inputs that contain 'cos' should appear first, demonstrating their high fitness value."
   ]
  },
  {
   "cell_type": "code",
   "execution_count": 24,
   "metadata": {},
   "outputs": [
    {
     "name": "stdout",
     "output_type": "stream",
     "text": [
      "cos(7.26)                                fitness: 1.0\n",
      "cos(19)                                  fitness: 1.0\n",
      "cos(-2762)                               fitness: 1.0\n",
      "cos(7.6)                                 fitness: 1.0\n",
      "cos(76397.53)                            fitness: 1.0\n",
      "cos(7126.3)                              fitness: 1.0\n",
      "cos(757.72)                              fitness: 1.0\n",
      "cos(162821.87)                           fitness: 1.0\n",
      "cos(42)                                  fitness: 1.0\n",
      "cos(5.2)                                 fitness: 1.0\n",
      "cos(4)                                   fitness: 1.0\n",
      "cos(1.412)                               fitness: 1.0\n",
      "cos(42.1)                                fitness: 1.0\n",
      "cos(224.24)                              fitness: 1.0\n",
      "cos(-6)                                  fitness: 1.0\n",
      "cos(7.71)                                fitness: 1.0\n",
      "cos(942.41)                              fitness: 1.0\n",
      "cos(-9.2)                                fitness: 1.0\n",
      "cos(7.1)                                 fitness: 1.0\n",
      "cos(7.2)                                 fitness: 1.0\n"
     ]
    }
   ],
   "source": [
    "# investigate only the first 20 bug-triggering inputs\n",
    "for inp in all_generated_inputs_sorted[:20]:\n",
    "    print(f\"{str(inp).ljust(40)} fitness: {inp.fitness}\")"
   ]
  },
  {
   "cell_type": "markdown",
   "metadata": {},
   "source": [
    "The resulting output validates the effectiveness of our custom fitness function. It shows how we can guide the evolutionary grammar-based fuzzing process towards specific regions of the input space, thereby facilitating targeted exploration and bug discovery."
   ]
  }
 ],
 "metadata": {
  "kernelspec": {
   "display_name": "Python 3 (ipykernel)",
   "language": "python",
   "name": "python3"
  },
  "language_info": {
   "codemirror_mode": {
    "name": "ipython",
    "version": 3
   },
   "file_extension": ".py",
   "mimetype": "text/x-python",
   "name": "python",
   "nbconvert_exporter": "python",
   "pygments_lexer": "ipython3",
   "version": "3.10.14"
  }
 },
 "nbformat": 4,
 "nbformat_minor": 4
}
