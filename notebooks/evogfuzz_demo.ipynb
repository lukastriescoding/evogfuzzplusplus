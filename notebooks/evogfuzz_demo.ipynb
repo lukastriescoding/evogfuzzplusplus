{
 "cells": [
  {
   "cell_type": "markdown",
   "metadata": {},
   "source": [
    "# EvoGFuzz: An Evolutionary Approach to Grammar-Based Fuzzing\n",
    "\n",
    "**EvoGFuzz** stands for *evolutionary grammar-based fuzzing*. This approach leverages evolutionary optimization techniques to systematically explore the space of a program's potential inputs, with a particular emphasis on identifying inputs that could lead to exceptional behavior. With a user-defined objective, EvoGFuzz can adapt and refine the input generation strategy over time, making it a powerful tool for uncovering software defects and vulnerabilities.\n",
    "\n",
    "Efficient detection of defects and vulnerabilities hinges on the ability to automatically generate program inputs that are both valid and diverse. One common strategy is to use grammars, which provide structured and syntactically correct inputs. This approach leads to the concept of grammar-based fuzzing, where fuzzing strategies are guided by the rules defined within the grammar.\n",
    "\n",
    "A further enhancement to this concept is probabilistic grammar-based fuzzing, where competing grammar rules are associated with probabilities that guide their application. By carefully assigning and optimizing these probabilities, we gain considerable control over the nature of the generated inputs. This enables us to direct the fuzzing process towards specific areas of interest—for example, those functions that are deemed critical, have a higher propensity for failures, or have undergone recent modifications. \n",
    "\n",
    "In essence, EvoGFuzz represents a potent blend of evolutionary optimization and probabilistic grammar-based fuzzing, poised to reveal hidden defects and vulnerabilities in a targeted and efficient manner."
   ]
  },
  {
   "cell_type": "markdown",
   "metadata": {},
   "source": [
    "## Fuzzing a Program"
   ]
  },
  {
   "cell_type": "markdown",
   "metadata": {},
   "source": [
    "Our program under investigation is `The Calculator`. This program acts as a typical calculator, capable of evaluating not just arithmetic expressions but also trigonometric functions, such as sine, cosine, and tangent. Furthermore, it also supports the calculation of the square root of a given number."
   ]
  },
  {
   "cell_type": "code",
   "execution_count": 1,
   "metadata": {},
   "outputs": [],
   "source": [
    "import math\n",
    "\n",
    "def calculator(inp: str) -> float:\n",
    "    \"\"\"\n",
    "        A simple calculator function that can evaluate arithmetic expressions \n",
    "        and perform basic trigonometric functions and square root calculations.\n",
    "    \"\"\"\n",
    "    return eval(\n",
    "        str(inp), {\"sqrt\": math.sqrt, \"sin\": math.sin, \"cos\": math.cos, \"tan\": math.tan}\n",
    "    )"
   ]
  },
  {
   "cell_type": "markdown",
   "metadata": {},
   "source": [
    "**Side Note:** In the `calculator`, we use Python's `eval` function, which takes a string and evaluates it as a Python expression. We provide a dictionary as the second argument to eval, mapping names to corresponding mathematical functions. This enables us to use the function names directly within the input string. "
   ]
  },
  {
   "cell_type": "code",
   "execution_count": 2,
   "metadata": {},
   "outputs": [
    {
     "name": "stdout",
     "output_type": "stream",
     "text": [
      "0.999993677717667\n"
     ]
    }
   ],
   "source": [
    "# Evaluating the cosine of 2π\n",
    "print(calculator('cos(6*3.141)'))"
   ]
  },
  {
   "cell_type": "code",
   "execution_count": 3,
   "metadata": {},
   "outputs": [
    {
     "name": "stdout",
     "output_type": "stream",
     "text": [
      "6.0\n"
     ]
    }
   ],
   "source": [
    "# Calculating the square root of 36\n",
    "print(calculator('sqrt(6*6)'))"
   ]
  },
  {
   "cell_type": "markdown",
   "metadata": {},
   "source": [
    "Each of these calls to the calculator will evaluate the provided string as a mathematical expression, and print the result."
   ]
  },
  {
   "cell_type": "markdown",
   "metadata": {},
   "source": [
    "Now, to find new defects, we need to introduce an oracle that tells us if the error that is triggered is something we expect or a new/unkonwn defect. The `OracleResult` is an enum with two possible values, `NO_BUG` and `BUG`. `NO_BUG` donates a passing test case and `BUG` a failing one."
   ]
  },
  {
   "cell_type": "markdown",
   "metadata": {},
   "source": [
    "We import the `OracleResult` enumerated type from the `evogfuzz` library. This is used in the oracle function to indicate the outcome of executing the 'calculator' function with a given input."
   ]
  },
  {
   "cell_type": "code",
   "execution_count": 4,
   "metadata": {},
   "outputs": [],
   "source": [
    "from debugging_framework.input.oracle import OracleResult"
   ]
  },
  {
   "cell_type": "markdown",
   "metadata": {},
   "source": [
    "This is a function called **oracle**, which acts as an intermediary to handle and classify exceptions produced by the calculator function when given a certain input."
   ]
  },
  {
   "cell_type": "code",
   "execution_count": 5,
   "metadata": {},
   "outputs": [],
   "source": [
    "# Make sure you use the OracleResult from the debugging_framework library\n",
    "from debugging_framework.input.oracle import OracleResult\n",
    "\n",
    "def oracle(inp: str):\n",
    "    \"\"\"\n",
    "    This function serves as an oracle or intermediary that catches and handles exceptions \n",
    "    generated by the 'calculator' function. The oracle function is used in the context of fuzz testing.\n",
    "    It aims to determine whether an input triggers a bug in the 'calculator' function.\n",
    "\n",
    "    Args:\n",
    "        inp (str): The input string to be passed to the 'calculator' function.\n",
    "\n",
    "    Returns:\n",
    "        OracleResult: An enumerated type 'OracleResult' indicating the outcome of the function execution.\n",
    "            - OracleResult.PASSING: Returned if the calculator function executes without any exception or only with CalculatorSyntaxError\n",
    "            - OracleResult.FAILING: Returned if the calculator function raises a ValueError exception, indicating a potential bug.\n",
    "    \"\"\"\n",
    "    try:\n",
    "        calculator(inp)\n",
    "    except ValueError as e:\n",
    "        return OracleResult.FAILING\n",
    "    \n",
    "    return OracleResult.PASSING"
   ]
  },
  {
   "cell_type": "markdown",
   "metadata": {},
   "source": [
    "This **oracle** function is used in the context of fuzzing to determine the impact of various inputs on the program under test (in our case the _calculator_). When the calculator function behaves as expected (i.e., no exceptions occur), the **oracle** function returns `OracleResult.NO_BUG`. However, when the `calculator` function raises an unexpected exception, the **oracle** interprets this as a potential bug in the `calculator` and returns `OracleResult.BUG`."
   ]
  },
  {
   "cell_type": "markdown",
   "metadata": {},
   "source": [
    "We can see this in action by testing a few initial inputs:"
   ]
  },
  {
   "cell_type": "code",
   "execution_count": 6,
   "metadata": {},
   "outputs": [
    {
     "name": "stdout",
     "output_type": "stream",
     "text": [
      "sqrt(1)              PASSING\n",
      "cos(912)             PASSING\n",
      "tan(4)               PASSING\n"
     ]
    }
   ],
   "source": [
    "initial_inputs = ['sqrt(1)', 'cos(912)', 'tan(4)']\n",
    "\n",
    "for inp in initial_inputs:\n",
    "    print(inp.ljust(20), oracle(inp))"
   ]
  },
  {
   "cell_type": "markdown",
   "metadata": {},
   "source": [
    "The following code represents a simple context-free grammar for our calculator function. This grammar encompasses all the potential valid inputs to the calculator, which include mathematical expressions involving square roots, trigonometric functions, and integer and decimal numbers:"
   ]
  },
  {
   "cell_type": "code",
   "execution_count": 7,
   "metadata": {},
   "outputs": [],
   "source": [
    "from debugging_framework.types import Grammar\n",
    "from debugging_framework.fuzzingbook.grammar import is_valid_grammar\n",
    "\n",
    "CALCGRAMMAR: Grammar = {\n",
    "    \"<start>\":\n",
    "        [\"<function>(<term>)\"],\n",
    "\n",
    "    \"<function>\":\n",
    "        [\"sqrt\", \"tan\", \"cos\", \"sin\"],\n",
    "    \n",
    "    \"<term>\": [\"-<value>\", \"<value>\"], \n",
    "    \n",
    "    \"<value>\":\n",
    "        [\"<integer>.<integer>\",\n",
    "         \"<integer>\"],\n",
    "\n",
    "    \"<integer>\":\n",
    "        [\"<digit><integer>\", \"<digit>\"],\n",
    "\n",
    "    \"<digit>\":\n",
    "        [\"1\", \"2\", \"3\", \"4\", \"5\", \"6\", \"7\", \"8\", \"9\"]\n",
    "}\n",
    "    \n",
    "assert is_valid_grammar(CALCGRAMMAR)"
   ]
  },
  {
   "cell_type": "markdown",
   "metadata": {},
   "source": [
    "The defined grammar CALCGRAMMAR provides a structured blueprint for creating various inputs for our fuzz testing. Each rule in this grammar reflects a possible valid input that our calculator function can handle. By fuzzing based on this grammar, we can systematically explore the space of valid inputs to the calculator function."
   ]
  },
  {
   "cell_type": "markdown",
   "metadata": {},
   "source": [
    "### Leveraging EvoGFuzz to Unearth New Defects\n",
    "\n",
    "We apply our `EvoGFuzz` class to carry out fuzz testing using evolutionary grammar-based fuzzing. This is aimed at uncovering potential defects in our 'calculator' function.\n",
    "\n",
    "To initialize our EvoGFuzz instance, we require a grammar (in our case, `CALCGRAMMAR`), an oracle function, an initial set of inputs, a fitness function, and the number of iterations to be performed in the fuzzing process.\n",
    "\n",
    "Upon creating the `EvoGFuzz` instance, we can execute the fuzzing process. The `fuzz()` method runs the fuzzing iterations, evolving the inputs based on our fitness function, and returns a collection of inputs that lead to exceptions in the 'calculator' function."
   ]
  },
  {
   "cell_type": "code",
   "execution_count": 8,
   "metadata": {},
   "outputs": [],
   "source": [
    "from evogfuzz.evogfuzz_class import EvoGFuzz\n",
    "\n",
    "epp = EvoGFuzz(\n",
    "    grammar=CALCGRAMMAR,\n",
    "    oracle=oracle,\n",
    "    inputs=initial_inputs,\n",
    "    iterations=10\n",
    ")"
   ]
  },
  {
   "cell_type": "markdown",
   "metadata": {},
   "source": [
    "Upon creating the `EvoGFuzz` instance, we can execute the fuzzing process. The `.fuzz()` method runs the fuzzing iterations, evolving the inputs based on our fitness function, and returns a collection of inputs that lead to exceptions in the 'calculator' function."
   ]
  },
  {
   "cell_type": "code",
   "execution_count": 9,
   "metadata": {},
   "outputs": [
    {
     "name": "stdout",
     "output_type": "stream",
     "text": [
      "EvoGFuzz found 171 bug-triggering inputs!\n"
     ]
    }
   ],
   "source": [
    "found_exception_inputs = epp.fuzz()\n",
    "print(f\"EvoGFuzz found {len(found_exception_inputs)} bug-triggering inputs!\")"
   ]
  },
  {
   "cell_type": "markdown",
   "metadata": {},
   "source": [
    "Lastly, we can examine the inputs that resulted in exceptions. This output can provide valuable insight into potential weaknesses in the 'calculator' function that need to be addressed."
   ]
  },
  {
   "cell_type": "code",
   "execution_count": 10,
   "metadata": {},
   "outputs": [
    {
     "name": "stdout",
     "output_type": "stream",
     "text": [
      "sqrt(-1414)\n",
      "sqrt(-499.2)\n",
      "sqrt(-9.4)\n",
      "sqrt(-9.12)\n",
      "sqrt(-44.12)\n",
      "sqrt(-1949194.291929)\n",
      "sqrt(-991.12)\n",
      "sqrt(-29999144.11119)\n",
      "sqrt(-9.91)\n",
      "sqrt(-91.9912)\n",
      "sqrt(-9919)\n",
      "sqrt(-91.21)\n",
      "sqrt(-11.2)\n",
      "sqrt(-9)\n",
      "sqrt(-19.9)\n",
      "sqrt(-2.12)\n",
      "sqrt(-21.1)\n",
      "sqrt(-1191.19)\n",
      "sqrt(-194.19219)\n",
      "sqrt(-2.2911)\n"
     ]
    }
   ],
   "source": [
    "# print only the first 20 bug-triggering inputs\n",
    "for inp in list(found_exception_inputs)[:20]:\n",
    "    print(str(inp))"
   ]
  },
  {
   "cell_type": "markdown",
   "metadata": {},
   "source": [
    "This process illustrates the power of evolutionary grammar-based fuzzing in identifying new defects within our system. By applying evolutionary algorithms to our fuzzing strategy, we can guide the search towards more defect-prone regions of the input space."
   ]
  },
  {
   "cell_type": "markdown",
   "metadata": {},
   "source": [
    "#### Analyzing and Sorting All Generated Inputs by Fitness"
   ]
  },
  {
   "cell_type": "markdown",
   "metadata": {},
   "source": [
    "After the fuzzing process, you may want to examine all the generated inputs. These can be accessed using the `get_all_inputs()` method. Additionally, we can sort these inputs based on their fitness scores to gain insights into which inputs performed best according to our fitness function."
   ]
  },
  {
   "cell_type": "code",
   "execution_count": 11,
   "metadata": {},
   "outputs": [],
   "source": [
    "all_generated_inputs = epp.get_all_inputs()\n",
    "all_generated_inputs_sorted = sorted(all_generated_inputs, key=lambda inp: inp.fitness, reverse=True)"
   ]
  },
  {
   "cell_type": "markdown",
   "metadata": {},
   "source": [
    "Now, let's print out these sorted inputs along with their respective fitness scores. Inputs with higher fitness scores will be displayed first, as these are the ones our evolutionary process deemed more likely to uncover potential defects."
   ]
  },
  {
   "cell_type": "code",
   "execution_count": 12,
   "metadata": {},
   "outputs": [
    {
     "name": "stdout",
     "output_type": "stream",
     "text": [
      "sqrt(-499.2)                             fitness: 1\n",
      "sqrt(-1949194.291929)                    fitness: 1\n",
      "sqrt(-1191.19)                           fitness: 1\n",
      "sqrt(-2.2911)                            fitness: 1\n",
      "sqrt(-91.12999)                          fitness: 1\n",
      "sqrt(-491.2)                             fitness: 1\n",
      "sqrt(-41)                                fitness: 1\n",
      "sqrt(-9.21)                              fitness: 1\n",
      "sqrt(-49)                                fitness: 1\n",
      "sqrt(-1911.1)                            fitness: 1\n",
      "sqrt(-121.14)                            fitness: 1\n",
      "sqrt(-11)                                fitness: 1\n",
      "sqrt(-9.92)                              fitness: 1\n",
      "sqrt(-9919.1)                            fitness: 1\n",
      "sqrt(-22.919)                            fitness: 1\n",
      "sqrt(-2.2)                               fitness: 1\n",
      "sqrt(-9999.21491)                        fitness: 1\n",
      "sqrt(-91211.4)                           fitness: 1\n",
      "sqrt(-4)                                 fitness: 1\n",
      "sqrt(-24.22)                             fitness: 1\n"
     ]
    }
   ],
   "source": [
    "# investigate only the first 20 bug-triggering inputs\n",
    "for inp in all_generated_inputs_sorted[:20]:\n",
    "    print(f\"{str(inp).ljust(40)} fitness: {inp.fitness}\")"
   ]
  },
  {
   "cell_type": "markdown",
   "metadata": {},
   "source": [
    "This output provides an overview of the evolved inputs and their effectiveness in revealing potential defects, as gauged by our fitness function. It is a valuable resource for understanding the behavior of our program under various inputs and the effectiveness of our evolutionary grammar-based fuzzing approach."
   ]
  },
  {
   "cell_type": "code",
   "execution_count": 13,
   "metadata": {},
   "outputs": [],
   "source": [
    "from evogfuzz.input import Input\n",
    "\n",
    "def fitness_function_naive(test_input: Input) -> int:\n",
    "    score_structure = len(str(test_input))\n",
    "    if test_input.oracle == OracleResult.FAILING:\n",
    "        score_feedback = 100\n",
    "    else:\n",
    "        score_feedback = 0\n",
    "    return score_feedback + score_structure"
   ]
  },
  {
   "cell_type": "code",
   "execution_count": 14,
   "metadata": {},
   "outputs": [
    {
     "name": "stdout",
     "output_type": "stream",
     "text": [
      "EvoGFuzz found 23 bug-triggering inputs!\n"
     ]
    }
   ],
   "source": [
    "epp = EvoGFuzz(\n",
    "    grammar=CALCGRAMMAR,\n",
    "    oracle=oracle,\n",
    "    inputs=initial_inputs,\n",
    "    fitness_function=fitness_function_naive,\n",
    "    iterations=10\n",
    ")\n",
    "\n",
    "found_exception_inputs = epp.fuzz()\n",
    "\n",
    "print(f\"EvoGFuzz found {len(found_exception_inputs)} bug-triggering inputs!\")"
   ]
  },
  {
   "cell_type": "code",
   "execution_count": 15,
   "metadata": {},
   "outputs": [],
   "source": [
    "all_generated_inputs = epp.get_all_inputs()\n",
    "all_generated_inputs_sorted = sorted(all_generated_inputs, key=lambda inp: inp.fitness, reverse=True)"
   ]
  },
  {
   "cell_type": "code",
   "execution_count": 16,
   "metadata": {},
   "outputs": [
    {
     "name": "stdout",
     "output_type": "stream",
     "text": [
      "sqrt(-3694679786666)                     fitness: 120\n",
      "sqrt(-4279698463)                        fitness: 117\n",
      "sqrt(-376777969)                         fitness: 116\n",
      "sqrt(-43973463)                          fitness: 115\n",
      "sqrt(-9341647)                           fitness: 114\n",
      "sqrt(-784286)                            fitness: 113\n",
      "sqrt(-124269)                            fitness: 113\n",
      "sqrt(-626642)                            fitness: 113\n",
      "sqrt(-17732)                             fitness: 112\n",
      "sqrt(-67636)                             fitness: 112\n",
      "sqrt(-7692)                              fitness: 111\n",
      "sqrt(-1878)                              fitness: 111\n",
      "sqrt(-476)                               fitness: 110\n",
      "sqrt(-799)                               fitness: 110\n",
      "sqrt(-297)                               fitness: 110\n",
      "sqrt(-997)                               fitness: 110\n",
      "sqrt(-11)                                fitness: 109\n",
      "sqrt(-29)                                fitness: 109\n",
      "sqrt(-78)                                fitness: 109\n",
      "sqrt(-2)                                 fitness: 108\n"
     ]
    }
   ],
   "source": [
    "# investigate only the first 20 bug-triggering inputs\n",
    "for inp in all_generated_inputs_sorted[:20]:\n",
    "    print(f\"{str(inp).ljust(40)} fitness: {inp.fitness}\")"
   ]
  },
  {
   "cell_type": "code",
   "execution_count": 17,
   "metadata": {},
   "outputs": [],
   "source": [
    "def count_expansions(children):\n",
    "    if children == []:\n",
    "        return 0\n",
    "\n",
    "    counter = 1\n",
    "\n",
    "    for child in children:\n",
    "        _, next_children = child\n",
    "        counter += count_expansions(next_children)    \n",
    "    \n",
    "    return counter"
   ]
  },
  {
   "cell_type": "code",
   "execution_count": 18,
   "metadata": {},
   "outputs": [],
   "source": [
    "from evogfuzz.input import Input\n",
    "\n",
    "def improved_fitness_function(test_input: Input) -> float:\n",
    "    _, children = test_input.tree\n",
    "    number_expansions = count_expansions(children)\n",
    "    lam = 100\n",
    "    score_structure = (number_expansions**2)/(lam * len(str(test_input)))\n",
    "    if test_input.oracle == OracleResult.FAILING:\n",
    "        score_feedback = 100\n",
    "    else:\n",
    "        score_feedback = 0\n",
    "    return score_feedback + score_structure"
   ]
  },
  {
   "cell_type": "code",
   "execution_count": 19,
   "metadata": {},
   "outputs": [
    {
     "name": "stdout",
     "output_type": "stream",
     "text": [
      "EvoGFuzz found 15 bug-triggering inputs!\n"
     ]
    }
   ],
   "source": [
    "epp = EvoGFuzz(\n",
    "    grammar=CALCGRAMMAR,\n",
    "    oracle=oracle,\n",
    "    inputs=initial_inputs,\n",
    "    fitness_function=improved_fitness_function,\n",
    "    iterations=10\n",
    ")\n",
    "\n",
    "found_exception_inputs = epp.fuzz()\n",
    "\n",
    "print(f\"EvoGFuzz found {len(found_exception_inputs)} bug-triggering inputs!\")"
   ]
  },
  {
   "cell_type": "code",
   "execution_count": 20,
   "metadata": {},
   "outputs": [],
   "source": [
    "all_generated_inputs = epp.get_all_inputs()\n",
    "all_generated_inputs_sorted = sorted(all_generated_inputs, key=lambda inp: inp.fitness, reverse=True)"
   ]
  },
  {
   "cell_type": "code",
   "execution_count": 21,
   "metadata": {},
   "outputs": [
    {
     "name": "stdout",
     "output_type": "stream",
     "text": [
      "sqrt(-4412429142942499)                  fitness: 100.56347826086956\n",
      "sqrt(-24142442492221)                    fitness: 100.48761904761905\n",
      "sqrt(-4994292129422)                     fitness: 100.45\n",
      "sqrt(-4429229999429)                     fitness: 100.45\n",
      "sqrt(-9442194991)                        fitness: 100.33882352941177\n",
      "sqrt(-4912144)                           fitness: 100.23142857142857\n",
      "sqrt(-24424)                             fitness: 100.16333333333333\n",
      "sqrt(-41249)                             fitness: 100.16333333333333\n",
      "sqrt(-1492)                              fitness: 100.13090909090909\n",
      "sqrt(-1119)                              fitness: 100.13090909090909\n",
      "sqrt(-429)                               fitness: 100.1\n",
      "sqrt(-94)                                fitness: 100.07111111111111\n",
      "sqrt(-4)                                 fitness: 100.045\n",
      "sqrt(-9)                                 fitness: 100.045\n",
      "sqrt(-1)                                 fitness: 100.045\n",
      "sqrt(2435432434558323349482741494867125994883.14283465356845343459485544824875318524) fitness: 3.011764705882353\n",
      "tan(11494829154349243.4865596399832158489296562931195424829194275912436394) fitness: 2.6885333333333334\n",
      "sqrt(9929124422499242494122991922219299199121111249911411919922941112422) fitness: 2.608767123287671\n",
      "cos(-19999422199121242194291994299911941442111142299941212) fitness: 2.0508474576271185\n",
      "sqrt(98924822283444221393295652242525752864528814133219493) fitness: 2.0508474576271185\n"
     ]
    }
   ],
   "source": [
    "# investigate only the first 20 bug-triggering inputs\n",
    "for inp in all_generated_inputs_sorted[:20]:\n",
    "    print(f\"{str(inp).ljust(40)} fitness: {inp.fitness}\")"
   ]
  },
  {
   "cell_type": "code",
   "execution_count": 22,
   "metadata": {},
   "outputs": [],
   "source": [
    "def calculate_score_structure(children, height):\n",
    "    score = 0\n",
    "    \n",
    "    for child in children:\n",
    "        node, next_children = child        \n",
    "        score += len(next_children)**height\n",
    "        score += calculate_score_structure(next_children, height+1)\n",
    "\n",
    "    return score"
   ]
  },
  {
   "cell_type": "code",
   "execution_count": 38,
   "metadata": {},
   "outputs": [],
   "source": [
    "from evogfuzz.input import Input\n",
    "\n",
    "def sophisticated_fitness_function(test_input: Input) -> float:\n",
    "    score_structure = calculate_score_structure([test_input.tree],0)\n",
    "    if test_input.oracle == OracleResult.FAILING:\n",
    "        score_feedback = 2**100\n",
    "    else:\n",
    "        score_feedback = 0\n",
    "    return score_feedback + score_structure"
   ]
  },
  {
   "cell_type": "code",
   "execution_count": 39,
   "metadata": {},
   "outputs": [
    {
     "name": "stdout",
     "output_type": "stream",
     "text": [
      "EvoGFuzz found 13 bug-triggering inputs!\n"
     ]
    }
   ],
   "source": [
    "epp = EvoGFuzz(\n",
    "    grammar=CALCGRAMMAR,\n",
    "    oracle=oracle,\n",
    "    inputs=initial_inputs,\n",
    "    fitness_function=sophisticated_fitness_function,\n",
    "    iterations=10\n",
    ")\n",
    "\n",
    "found_exception_inputs = epp.fuzz()\n",
    "\n",
    "print(f\"EvoGFuzz found {len(found_exception_inputs)} bug-triggering inputs!\")"
   ]
  },
  {
   "cell_type": "code",
   "execution_count": 40,
   "metadata": {},
   "outputs": [],
   "source": [
    "all_generated_inputs = epp.get_all_inputs()\n",
    "all_generated_inputs_sorted = sorted(all_generated_inputs, key=lambda inp: inp.fitness, reverse=True)"
   ]
  },
  {
   "cell_type": "code",
   "execution_count": 41,
   "metadata": {},
   "outputs": [
    {
     "name": "stdout",
     "output_type": "stream",
     "text": [
      "sqrt(-54444154655568144758488718118189164964559) fitness: 1267650600228229410292796227623\n",
      "sqrt(-11611155911971561615645846)        fitness: 1267650600228229401496971640856\n",
      "sqrt(-3994589394599911553484)            fitness: 1267650600228229401496719982612\n",
      "sqrt(-341911185441564)                   fitness: 1267650600228229401496703336461\n",
      "sqrt(-51149416614)                       fitness: 1267650600228229401496703213577\n",
      "sqrt(-95564461)                          fitness: 1267650600228229401496703206406\n",
      "sqrt(-7455646)                           fitness: 1267650600228229401496703205893\n",
      "sqrt(-469864)                            fitness: 1267650600228229401496703205636\n",
      "sqrt(-641)                               fitness: 1267650600228229401496703205409\n",
      "sqrt(-64)                                fitness: 1267650600228229401496703205392\n",
      "sqrt(-9)                                 fitness: 1267650600228229401496703205383\n",
      "sqrt(-1)                                 fitness: 1267650600228229401496703205383\n",
      "sqrt(-7)                                 fitness: 1267650600228229401496703205383\n",
      "tan(9463466527995891115651613566999886131666959995457186646) fitness: 144115188075855924\n",
      "tan(561688544817959941479161986399964513346189669445) fitness: 1125899906842669\n",
      "tan(46896961115644919345561998749496991256956614) fitness: 70368744177705\n",
      "sin(81841599612654146696446661564416171918) fitness: 1099511627811\n",
      "tan(5169659668444199666363399957351146)  fitness: 68719476767\n",
      "tan(-488479566966596641164511616691126)  fitness: 34359738399\n",
      "sqrt(466556444966191354811954535186951)  fitness: 34359738398\n"
     ]
    }
   ],
   "source": [
    "# investigate only the first 20 bug-triggering inputs\n",
    "for inp in all_generated_inputs_sorted[:20]:    \n",
    "    print(f\"{str(inp).ljust(40)} fitness: {inp.fitness}\")"
   ]
  },
  {
   "cell_type": "code",
   "execution_count": 42,
   "metadata": {},
   "outputs": [],
   "source": [
    "def calculate_height_and_degreeSum(children, height):\n",
    "    max_height = height\n",
    "    score = 0\n",
    "    \n",
    "    for child in children:\n",
    "        node, next_children = child\n",
    "        score += len(next_children)**height\n",
    "        next_score, next_height = calculate_height_and_degreeSum(next_children, height+1)\n",
    "        score += next_score\n",
    "        if next_height > max_height:\n",
    "            max_height = next_height\n",
    "            \n",
    "    return score, max_height"
   ]
  },
  {
   "cell_type": "code",
   "execution_count": 51,
   "metadata": {},
   "outputs": [],
   "source": [
    "from evogfuzz.input import Input\n",
    "\n",
    "def ratio_sophisticated_fitness_function(test_input: Input) -> float:\n",
    "    #_, children = test_input.tree\n",
    "    lam = 2**50\n",
    "    degreeSums, height = calculate_height_and_degreeSum([test_input.tree],0)\n",
    "    score_structure = degreeSums/(lam * height)\n",
    "    if test_input.oracle == OracleResult.FAILING:\n",
    "        score_feedback = 100\n",
    "    else:\n",
    "        score_feedback = 0\n",
    "    return score_feedback + score_structure"
   ]
  },
  {
   "cell_type": "code",
   "execution_count": 52,
   "metadata": {},
   "outputs": [
    {
     "name": "stdout",
     "output_type": "stream",
     "text": [
      "EvoGFuzz found 118 bug-triggering inputs!\n"
     ]
    }
   ],
   "source": [
    "epp = EvoGFuzz(\n",
    "    grammar=CALCGRAMMAR,\n",
    "    oracle=oracle,\n",
    "    inputs=initial_inputs,\n",
    "    fitness_function=ratio_sophisticated_fitness_function,\n",
    "    iterations=10\n",
    ")\n",
    "\n",
    "found_exception_inputs = epp.fuzz()\n",
    "\n",
    "print(f\"EvoGFuzz found {len(found_exception_inputs)} bug-triggering inputs!\")"
   ]
  },
  {
   "cell_type": "code",
   "execution_count": 53,
   "metadata": {},
   "outputs": [],
   "source": [
    "all_generated_inputs = epp.get_all_inputs()\n",
    "all_generated_inputs_sorted = sorted(all_generated_inputs, key=lambda inp: inp.fitness, reverse=True)"
   ]
  },
  {
   "cell_type": "code",
   "execution_count": 54,
   "metadata": {},
   "outputs": [
    {
     "name": "stdout",
     "output_type": "stream",
     "text": [
      "tan(-1114141942144192999112111929119149114914141211111141119141112419211944149911114299119191419111.919911912211121411419911141) fitness: 710795395733.9799\n",
      "cos(-29244941191491211421442921224414294214194119911111221111441419.1199211111211411142112121119) fitness: 244.53731344706978\n",
      "sqrt(-21214114411411994111412412141111191112.49) fitness: 100.00002271075581\n",
      "sqrt(-1441144.11194121294212119111119121441411419) fitness: 100.00000305175783\n",
      "sqrt(-14111114491949191191414411429124944) fitness: 100.00000305175782\n",
      "sqrt(-9.2411424114112111949449199421999994) fitness: 100.00000156500401\n",
      "sqrt(-21111412114112111412211491241941.1944999411211111194449192) fitness: 100.00000041562159\n",
      "sqrt(-244449424992199114194911249414)    fitness: 100.00000010899136\n",
      "sqrt(-111111112421114241941.149941119419491111141494911) fitness: 100.00000001513399\n",
      "sqrt(-44419111.112299124192411941411144419) fitness: 100.00000001490119\n",
      "sqrt(-11111914412112119191119114)        fitness: 100.00000000769093\n",
      "sqrt(-14941111941119991111141912)        fitness: 100.00000000769093\n",
      "sqrt(-2119491421249424914414411)         fitness: 100.00000000397364\n",
      "sqrt(-1144944214191119111112149)         fitness: 100.00000000397364\n",
      "sqrt(-191149121149144112944424.1941111191199) fitness: 100.00000000205634\n",
      "sqrt(-121119119411111111212214)          fitness: 100.00000000205533\n",
      "sqrt(-42114214191144291414114)           fitness: 100.00000000106436\n",
      "sqrt(-919124914499144494121)             fitness: 100.00000000028656\n",
      "sqrt(-41411499911414191291)              fitness: 100.00000000014902\n",
      "sqrt(-4121141142194919441)               fitness: 100.0000000000776\n"
     ]
    }
   ],
   "source": [
    "# investigate only the first 20 bug-triggering inputs\n",
    "for inp in all_generated_inputs_sorted[:20]:    \n",
    "    print(f\"{str(inp).ljust(40)} fitness: {inp.fitness}\")"
   ]
  },
  {
   "cell_type": "code",
   "execution_count": 32,
   "metadata": {},
   "outputs": [],
   "source": [
    "# for debugging\n",
    "\n",
    "#from isla.derivation_tree import DerivationTree\n",
    "#from isla.parser import EarleyParser\n",
    "\n",
    "#inp = Input(DerivationTree.from_parse_tree(next(EarleyParser(CALCGRAMMAR).parse(\"sqrt(-13.62)\"))))\n",
    "#node, children = inp.tree\n",
    "#score_structure = calculate_height_and_degreeSum([inp.tree],0)\n",
    "#print(score_structure)"
   ]
  },
  {
   "cell_type": "markdown",
   "metadata": {},
   "source": [
    "### Incorporating Custom Fitness Functions\n",
    "\n",
    "The fitness function plays a crucial role in guiding the evolution process of our fuzzing inputs. A well-crafted fitness function can effectively direct the search towards the most promising regions of the input space.\n",
    "\n",
    "To create your own fitness function, define a function that takes an `Input` instance and returns a float value. The return value represents the 'fitness' of the given input, with higher values indicating better fitness. Here is a simple template:\n",
    "\n",
    "```python\n",
    "from evogfuzz.input import Input\n",
    "\n",
    "def fitness_function_XYZ(inp: Input) -> float:\n",
    "    # Implement your fitness function here.\n",
    "    return 0.0\n",
    "```"
   ]
  },
  {
   "cell_type": "markdown",
   "metadata": {},
   "source": [
    "For instance, suppose we're interested in inputs that invoke the cosine function in our calculator. We could define a fitness function `fitness_function_cos` that assigns a high fitness value to inputs containing 'cos'. (**Note that this might not be the best fitness function to find new expcetions.**)"
   ]
  },
  {
   "cell_type": "code",
   "execution_count": 33,
   "metadata": {},
   "outputs": [],
   "source": [
    "from evogfuzz.input import Input\n",
    "\n",
    "def fitness_function_cos(inp: Input) -> float:\n",
    "    if 'cos' in str(inp):\n",
    "        return 1.0\n",
    "    else:\n",
    "        return 0.0"
   ]
  },
  {
   "cell_type": "markdown",
   "metadata": {},
   "source": [
    "Once your fitness function is defined, you can incorporate it into the `EvoGFuzz` instance by passing it as the `fitness_function` argument. "
   ]
  },
  {
   "cell_type": "code",
   "execution_count": 34,
   "metadata": {},
   "outputs": [
    {
     "name": "stdout",
     "output_type": "stream",
     "text": [
      "EvoGFuzz found 0 bug-triggering inputs!\n"
     ]
    }
   ],
   "source": [
    "epp = EvoGFuzz(\n",
    "    grammar=CALCGRAMMAR,\n",
    "    oracle=oracle,\n",
    "    inputs=initial_inputs,\n",
    "    fitness_function=fitness_function_cos,\n",
    "    iterations=10\n",
    ")\n",
    "\n",
    "found_exception_inputs = epp.fuzz()\n",
    "\n",
    "print(f\"EvoGFuzz found {len(found_exception_inputs)} bug-triggering inputs!\")\n",
    "\n",
    "for inp in found_exception_inputs:\n",
    "    print(str(inp))"
   ]
  },
  {
   "cell_type": "markdown",
   "metadata": {},
   "source": [
    "This way, the evolutionary grammar-based fuzzing process is now guided by your custom fitness function, focusing more on the areas you deem critical."
   ]
  },
  {
   "cell_type": "markdown",
   "metadata": {},
   "source": [
    "#### Evaluating Inputs Based on Custom Fitness Function"
   ]
  },
  {
   "cell_type": "markdown",
   "metadata": {},
   "source": [
    "When utilizing a custom fitness function, such as `fitness_function_cos` in our case, we expect inputs containing 'cos' to achieve the highest fitness scores. This is because our fitness function assigns a score of 1.0 to any input that includes 'cos'.\n",
    "\n",
    "To confirm this behavior, we retrieve all inputs generated during the fuzzing process using the `get_all_inputs()` method and sort these inputs based on their fitness scores."
   ]
  },
  {
   "cell_type": "code",
   "execution_count": 23,
   "metadata": {},
   "outputs": [],
   "source": [
    "all_generated_inputs = epp.get_all_inputs()\n",
    "all_generated_inputs_sorted = sorted(all_generated_inputs, key=lambda inp: inp.fitness, reverse=True)"
   ]
  },
  {
   "cell_type": "markdown",
   "metadata": {},
   "source": [
    "Let's display these sorted inputs along with their fitness scores. The inputs that contain 'cos' should appear first, demonstrating their high fitness value."
   ]
  },
  {
   "cell_type": "code",
   "execution_count": 24,
   "metadata": {},
   "outputs": [
    {
     "name": "stdout",
     "output_type": "stream",
     "text": [
      "cos(7.26)                                fitness: 1.0\n",
      "cos(19)                                  fitness: 1.0\n",
      "cos(-2762)                               fitness: 1.0\n",
      "cos(7.6)                                 fitness: 1.0\n",
      "cos(76397.53)                            fitness: 1.0\n",
      "cos(7126.3)                              fitness: 1.0\n",
      "cos(757.72)                              fitness: 1.0\n",
      "cos(162821.87)                           fitness: 1.0\n",
      "cos(42)                                  fitness: 1.0\n",
      "cos(5.2)                                 fitness: 1.0\n",
      "cos(4)                                   fitness: 1.0\n",
      "cos(1.412)                               fitness: 1.0\n",
      "cos(42.1)                                fitness: 1.0\n",
      "cos(224.24)                              fitness: 1.0\n",
      "cos(-6)                                  fitness: 1.0\n",
      "cos(7.71)                                fitness: 1.0\n",
      "cos(942.41)                              fitness: 1.0\n",
      "cos(-9.2)                                fitness: 1.0\n",
      "cos(7.1)                                 fitness: 1.0\n",
      "cos(7.2)                                 fitness: 1.0\n"
     ]
    }
   ],
   "source": [
    "# investigate only the first 20 bug-triggering inputs\n",
    "for inp in all_generated_inputs_sorted[:20]:\n",
    "    print(f\"{str(inp).ljust(40)} fitness: {inp.fitness}\")"
   ]
  },
  {
   "cell_type": "markdown",
   "metadata": {},
   "source": [
    "The resulting output validates the effectiveness of our custom fitness function. It shows how we can guide the evolutionary grammar-based fuzzing process towards specific regions of the input space, thereby facilitating targeted exploration and bug discovery."
   ]
  }
 ],
 "metadata": {
  "kernelspec": {
   "display_name": "Python 3 (ipykernel)",
   "language": "python",
   "name": "python3"
  },
  "language_info": {
   "codemirror_mode": {
    "name": "ipython",
    "version": 3
   },
   "file_extension": ".py",
   "mimetype": "text/x-python",
   "name": "python",
   "nbconvert_exporter": "python",
   "pygments_lexer": "ipython3",
   "version": "3.10.14"
  }
 },
 "nbformat": 4,
 "nbformat_minor": 4
}
