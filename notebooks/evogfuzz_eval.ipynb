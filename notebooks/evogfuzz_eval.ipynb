{
 "cells": [
  {
   "cell_type": "markdown",
   "id": "d91fa576-adaf-443a-80c3-2a3bb4123d99",
   "metadata": {},
   "source": [
    "\n",
    "# Evalutating different fitness functions for EvoGFuzz\n",
    "\n",
    "In our project we implement the three given fitness functions with a ```naive```, an ```improved``` and a ```sophisticated``` approach, that were given in the **EvoGFuzz** paper. We then came up with a new approach that uses and aims to improve the ```sophisticated``` approach. We call it the ```ratioed sophisticated``` approach. In this notebook we evaluate each of the approach.\n"
   ]
  },
  {
   "cell_type": "markdown",
   "id": "d7cf7e2c-3e9c-42d5-b751-1e3e71a4dc76",
   "metadata": {},
   "source": [
    "We use the same example as **EvoGFuzz** and therefore need to define our calculator, its oracle and the grammar."
   ]
  },
  {
   "cell_type": "code",
   "execution_count": 1,
   "id": "186170a4-b347-49b8-ac40-0da6b3dc076b",
   "metadata": {},
   "outputs": [],
   "source": [
    "import math\n",
    "\n",
    "def calculator(inp: str) -> float:\n",
    "    return eval(\n",
    "        str(inp), {\"sqrt\": math.sqrt, \"sin\": math.sin, \"cos\": math.cos, \"tan\": math.tan}\n",
    "    )"
   ]
  },
  {
   "cell_type": "code",
   "execution_count": 2,
   "id": "d6c1f759-8299-415d-8fa1-8ad83d70661d",
   "metadata": {},
   "outputs": [],
   "source": [
    "# Make sure you use the OracleResult from the debugging_framework library\n",
    "from debugging_framework.input.oracle import OracleResult\n",
    "\n",
    "def oracle(inp: str):\n",
    "    try:\n",
    "        calculator(inp)\n",
    "    except ValueError as e:\n",
    "        return OracleResult.FAILING\n",
    "    \n",
    "    return OracleResult.PASSING"
   ]
  },
  {
   "cell_type": "code",
   "execution_count": 3,
   "id": "db32f501-66e9-4e02-9606-caee823f543f",
   "metadata": {},
   "outputs": [],
   "source": [
    "from debugging_framework.types import Grammar\n",
    "from debugging_framework.fuzzingbook.grammar import is_valid_grammar\n",
    "\n",
    "CALCGRAMMAR: Grammar = {\n",
    "    \"<start>\":\n",
    "        [\"<function>(<term>)\"],\n",
    "\n",
    "    \"<function>\":\n",
    "        [\"sqrt\", \"tan\", \"cos\", \"sin\"],\n",
    "    \n",
    "    \"<term>\": [\"-<value>\", \"<value>\"], \n",
    "    \n",
    "    \"<value>\":\n",
    "        [\"<integer>.<integer>\",\n",
    "         \"<integer>\"],\n",
    "\n",
    "    \"<integer>\":\n",
    "        [\"<digit><integer>\", \"<digit>\"],\n",
    "\n",
    "    \"<digit>\":\n",
    "        [\"1\", \"2\", \"3\", \"4\", \"5\", \"6\", \"7\", \"8\", \"9\"]\n",
    "}\n",
    "    \n",
    "assert is_valid_grammar(CALCGRAMMAR)"
   ]
  },
  {
   "cell_type": "markdown",
   "id": "d7d27748-79f2-46d4-922f-9af87de5e8e2",
   "metadata": {},
   "source": [
    "For the new fitness functions we also need to define some helper functions, that we use later on. \n",
    "\n",
    "We start by defining a function ```count_expansions``` for the ```improved``` approach, that returns the expansions of a tree, when given the first children of the root of the derivation tree.\n",
    "\n",
    "We then define the ```calculate_sophisticated_score_structure``` function, that calculated the score structure which considers more complex expansions that are more nested. We sum up the degree exponantiated with the height of the individual nodes.\n",
    "\n",
    "As for our ```ratioed sophisticated``` approach we need the maximum height of the tree to devide by it, we also define a function similar to the one before, that also returns the max height of the derivation tree. We named it ```calculate_height_and_degreeSum```."
   ]
  },
  {
   "cell_type": "code",
   "execution_count": 4,
   "id": "b31c854a-7b75-4cf4-a082-a22ed206b041",
   "metadata": {},
   "outputs": [],
   "source": [
    "def count_expansions(children):\n",
    "    if children == []:\n",
    "        return 0\n",
    "\n",
    "    counter = 1\n",
    "\n",
    "    for child in children:\n",
    "        _, next_children = child\n",
    "        counter += count_expansions(next_children)    \n",
    "    \n",
    "    return counter"
   ]
  },
  {
   "cell_type": "code",
   "execution_count": 5,
   "id": "5e8f2626-29bf-4de3-b0fb-d8312ffd1e7f",
   "metadata": {},
   "outputs": [],
   "source": [
    "def calculate_sophisticated_score_structure(children, height):\n",
    "    score = 0\n",
    "    \n",
    "    for child in children:\n",
    "        node, next_children = child        \n",
    "        score += len(next_children)**height\n",
    "        score += calculate_sophisticated_score_structure(next_children, height+1)\n",
    "\n",
    "    return score"
   ]
  },
  {
   "cell_type": "code",
   "execution_count": 6,
   "id": "881002b2-02fc-4609-9ba8-108ee99f1e87",
   "metadata": {},
   "outputs": [],
   "source": [
    "def calculate_height_and_degreeSum(children, height):\n",
    "    max_height = height\n",
    "    score = 0\n",
    "    \n",
    "    for child in children:\n",
    "        node, next_children = child\n",
    "        score += len(next_children)**height\n",
    "        next_score, next_height = calculate_height_and_degreeSum(next_children, height+1)\n",
    "        score += next_score\n",
    "        if next_height > max_height:\n",
    "            max_height = next_height\n",
    "            \n",
    "    return score, max_height"
   ]
  },
  {
   "cell_type": "code",
   "execution_count": 24,
   "id": "a78c4541",
   "metadata": {},
   "outputs": [],
   "source": [
    "def count_diff_expansions(children, set):\n",
    "    curr_set = set\n",
    "    score = 0\n",
    "    \n",
    "    \n",
    "    for child in children:\n",
    "        node, next_children = child\n",
    "        curr_set.add(node)\n",
    "        next_score, next_set = count_diff_expansions(next_children, curr_set)\n",
    "        score += next_score\n",
    "        curr_set.update(next_set)\n",
    "    \n",
    "    return score + len(curr_set), curr_set"
   ]
  },
  {
   "cell_type": "markdown",
   "id": "beee25d2-1432-46aa-9b2f-b60f5fa2e8a1",
   "metadata": {},
   "source": [
    "AS mentioned before the **EvoGFuzz** paper took a very simple approach for calculating the fitness of each input. The paper itself suggested three different functions that might improve the outcome for future work. A ```naive```, an ```improved``` and a ```sophisticated``` approach. \n",
    "\n",
    "The ```naive``` approach simply takes in the length of the input. To reward a failing input, we add 100 to the score. We implement this in the ```naive_fitness_function```.\n",
    "\n",
    "For the ```improved``` approach we count the expansions of the derivation tree, square it and devide it by the length of the input and multiply the length by a paramater $\\lambda$. We reward failing inputs as before. This is implemented in the ```improved_fitness_function```.\n",
    "\n",
    "The ```sophisticated``` approach rewards more complex expansions. For that we also need the degree of each node, which is then exponantiated by the height of it. As the fitness scores tends to get quite large, we need to reward failing inputs by adding $2^{100}$ to it.\n",
    "\n",
    "For our approach, we wanted to put the complexity of the expansion into perspective of the height of the derivation tree. We calculate our score as follows:\n",
    "$$\n",
    "score_{structure}(x) = \\frac{\\sum_{\\forall v\\in V}deg(v)^{h(v)}}{\\lambda \\cdot h} \\text{.}\n",
    "$$\n",
    "We reward a failing input the same as in the first 2 approaches. It's implemented in the ```ratio_sophisticated_fitness_function```."
   ]
  },
  {
   "cell_type": "code",
   "execution_count": 7,
   "id": "1c59e65b-ddb4-41ec-9d99-be8594b7048b",
   "metadata": {},
   "outputs": [],
   "source": [
    "from evogfuzz.input import Input"
   ]
  },
  {
   "cell_type": "code",
   "execution_count": 8,
   "id": "3dc16d4e-d9a6-4002-a342-73232114e646",
   "metadata": {},
   "outputs": [],
   "source": [
    "def naive_fitness_function(test_input: Input) -> int:\n",
    "    score_structure = len(str(test_input))\n",
    "    if test_input.oracle == OracleResult.FAILING:\n",
    "        score_feedback = 100\n",
    "    else:\n",
    "        score_feedback = 0\n",
    "    return score_feedback + score_structure"
   ]
  },
  {
   "cell_type": "code",
   "execution_count": 9,
   "id": "5f9548d2-968a-43c0-93cf-b420d48d9084",
   "metadata": {},
   "outputs": [],
   "source": [
    "def improved_fitness_function(test_input: Input) -> float:\n",
    "    _, children = test_input.tree\n",
    "    number_expansions = count_expansions(children)\n",
    "    lam = 100\n",
    "    score_structure = (number_expansions**2)/(lam * len(str(test_input)))\n",
    "    if test_input.oracle == OracleResult.FAILING:\n",
    "        score_feedback = 100\n",
    "    else:\n",
    "        score_feedback = 0\n",
    "    return score_feedback + score_structure"
   ]
  },
  {
   "cell_type": "code",
   "execution_count": 10,
   "id": "39c51bdc-5585-4eb8-82f1-a9e94d492d58",
   "metadata": {},
   "outputs": [],
   "source": [
    "def sophisticated_fitness_function(test_input: Input) -> float:\n",
    "    score_structure = calculate_sophisticated_score_structure([test_input.tree],0)\n",
    "    if test_input.oracle == OracleResult.FAILING:\n",
    "        score_feedback = 2**100\n",
    "    else:\n",
    "        score_feedback = 0\n",
    "    return score_feedback + score_structure"
   ]
  },
  {
   "cell_type": "code",
   "execution_count": 11,
   "id": "4c530426-b757-4d58-9b44-19bc8ebf6a5e",
   "metadata": {},
   "outputs": [],
   "source": [
    "def ratio_sophisticated_fitness_function(test_input: Input) -> float:\n",
    "    lam = 2**50\n",
    "    degreeSums, height = calculate_height_and_degreeSum([test_input.tree],0)\n",
    "    score_structure = degreeSums/(lam * height)\n",
    "    if test_input.oracle == OracleResult.FAILING:\n",
    "        score_feedback = 100\n",
    "    else:\n",
    "        score_feedback = 0\n",
    "    return score_feedback + score_structure"
   ]
  },
  {
   "cell_type": "code",
   "execution_count": 18,
   "id": "abd9dc68",
   "metadata": {},
   "outputs": [],
   "source": [
    "def diff_expansions_fitness_function(test_input: Input) -> float:\n",
    "    score_structure, _ = count_diff_expansions([test_input.tree], set())\n",
    "    if test_input.oracle == OracleResult.FAILING:\n",
    "        score_feedback = 100\n",
    "    else:\n",
    "        score_feedback = 0\n",
    "    return score_feedback + score_structure"
   ]
  },
  {
   "cell_type": "markdown",
   "id": "8851efeb-634f-4951-88a8-4d2a2c916566",
   "metadata": {},
   "source": [
    "Finally we can define EvoGFuzz instances with all different fitness functions. For comparison, we start with defining an instance with the standard fitness function and thereafter define one for each of ours.\n"
   ]
  },
  {
   "cell_type": "code",
   "execution_count": 19,
   "id": "799ffbbb-d605-4c99-afbb-2004f8e9148d",
   "metadata": {},
   "outputs": [],
   "source": [
    "from evogfuzz.evogfuzz_class import EvoGFuzz\n",
    "\n",
    "def eval_fitness(eval_iterations,initial_inputs,iterations):\n",
    "    \"\"\"\n",
    "    Evaluate the differnet fitness functions.\n",
    "    :param eval_iterations: The number of iterations we use to calculate the found exception inputs.\n",
    "    :param initial_inputs: The input from which EvoGFuzz starts to train.\n",
    "    :param itarations: The number of iterations EvoGFuzz trains.\n",
    "    :return: The total number of found exception inputs per iteration.\n",
    "    \"\"\"\n",
    "    \n",
    "    dict_stand = {i: 0 for i in range(iterations)}\n",
    "    dict_naive = {i: 0 for i in range(iterations)}\n",
    "    dict_impr = {i:0 for i in range(iterations)}\n",
    "    dict_soph = {i:0 for i in range(iterations)}\n",
    "    dict_ratio_soph = {i:0 for i in range(iterations)}\n",
    "    dict_diff_exp = {i:0 for i in range(iterations)}\n",
    "    \n",
    "    for i in range(eval_iterations):\n",
    "        epp_stand = EvoGFuzz(\n",
    "            grammar=CALCGRAMMAR,\n",
    "            oracle=oracle,\n",
    "            inputs=initial_inputs,\n",
    "            iterations=iterations\n",
    "        )\n",
    "        \n",
    "        epp_naive = EvoGFuzz(\n",
    "            grammar=CALCGRAMMAR,\n",
    "            oracle=oracle,\n",
    "            inputs=initial_inputs,\n",
    "            fitness_function=naive_fitness_function,\n",
    "            iterations=iterations\n",
    "        )\n",
    "        \n",
    "        epp_impr = EvoGFuzz(\n",
    "            grammar=CALCGRAMMAR,\n",
    "            oracle=oracle,\n",
    "            inputs=initial_inputs,\n",
    "            fitness_function=improved_fitness_function,\n",
    "            iterations=iterations\n",
    "        )\n",
    "        \n",
    "        epp_soph = EvoGFuzz(\n",
    "            grammar=CALCGRAMMAR,\n",
    "            oracle=oracle,\n",
    "            inputs=initial_inputs,\n",
    "            fitness_function=sophisticated_fitness_function,\n",
    "            iterations=iterations\n",
    "        )\n",
    "\n",
    "        epp_ratio_soph = EvoGFuzz(\n",
    "            grammar=CALCGRAMMAR,\n",
    "            oracle=oracle,\n",
    "            inputs=initial_inputs,\n",
    "            fitness_function=ratio_sophisticated_fitness_function,\n",
    "            iterations=iterations\n",
    "        )\n",
    "        \n",
    "        epp_diff_exp = EvoGFuzz(\n",
    "            grammar=CALCGRAMMAR,\n",
    "            oracle=oracle,\n",
    "            inputs=initial_inputs,\n",
    "            fitness_function=diff_expansions_fitness_function,\n",
    "            iterations=iterations\n",
    "        )\n",
    "        \n",
    "        found_exc_inp_stand = epp_stand.fuzz()\n",
    "        for iteration in found_exc_inp_stand.keys():\n",
    "            dict_stand[iteration] += len(found_exc_inp_stand[iteration])\n",
    "        \n",
    "        found_exc_inp_naive = epp_naive.fuzz()\n",
    "        for iteration in found_exc_inp_naive.keys():\n",
    "            dict_naive[iteration] += len(found_exc_inp_naive[iteration])\n",
    "            \n",
    "        found_exc_inp_impr = epp_impr.fuzz()\n",
    "        for iteration in found_exc_inp_impr.keys():\n",
    "            dict_impr[iteration] += len(found_exc_inp_impr[iteration])\n",
    "            \n",
    "        found_exc_inp_soph = epp_soph.fuzz()\n",
    "        for iteration in found_exc_inp_soph.keys():\n",
    "            dict_soph[iteration] += len(found_exc_inp_soph[iteration])\n",
    "            \n",
    "        found_exc_inp_ratio_soph = epp_ratio_soph.fuzz()\n",
    "        for iteration in found_exc_inp_ratio_soph.keys():\n",
    "            dict_ratio_soph[iteration] += len(found_exc_inp_ratio_soph[iteration])\n",
    "            \n",
    "        found_exc_inp_diff_exp = epp_diff_exp.fuzz()\n",
    "        for iteration in found_exc_inp_diff_exp.keys():\n",
    "            dict_diff_exp[iteration] += len(found_exc_inp_diff_exp[iteration])\n",
    "\n",
    "    return dict_stand, dict_naive, dict_impr, dict_soph, dict_ratio_soph, dict_diff_exp"
   ]
  },
  {
   "cell_type": "code",
   "execution_count": 20,
   "id": "a1ee01e2-5d51-4db7-a695-5855a4b4fc00",
   "metadata": {},
   "outputs": [],
   "source": [
    "def print_total_found_exc(dict_found_exc_inp, fitness):\n",
    "    counter = 0\n",
    "    for iteration in dict_found_exc_inp.keys():\n",
    "        counter += dict_found_exc_inp[iteration]\n",
    "\n",
    "    print(f\"EvoGFuzz found {counter} bug-triggering inputs fith the {fitness} fitness function!\")"
   ]
  },
  {
   "cell_type": "code",
   "execution_count": 22,
   "id": "85acca60-d147-48ca-b2c7-60f8aac2796d",
   "metadata": {},
   "outputs": [],
   "source": [
    "def print_output(dict_found_exc_inp, fitness):\n",
    "    print(fitness, end=\"\\n\")\n",
    "    for iteration in dict_found_exc_inp.keys():\n",
    "        print(iteration, \":\", dict_found_exc_inp[iteration], end=\"\\n\")\n",
    "    print(\"\\n\\n\")"
   ]
  },
  {
   "cell_type": "code",
   "execution_count": 23,
   "id": "39eff4df-2c0d-43e5-993f-f009a74e16ac",
   "metadata": {},
   "outputs": [
    {
     "ename": "TypeError",
     "evalue": "unhashable type: 'set'",
     "output_type": "error",
     "traceback": [
      "\u001b[0;31m---------------------------------------------------------------------------\u001b[0m",
      "\u001b[0;31mTypeError\u001b[0m                                 Traceback (most recent call last)",
      "Cell \u001b[0;32mIn[23], line 3\u001b[0m\n\u001b[1;32m      1\u001b[0m initial_inputs \u001b[38;5;241m=\u001b[39m [\u001b[38;5;124m'\u001b[39m\u001b[38;5;124msqrt(1)\u001b[39m\u001b[38;5;124m'\u001b[39m, \u001b[38;5;124m'\u001b[39m\u001b[38;5;124mcos(912)\u001b[39m\u001b[38;5;124m'\u001b[39m, \u001b[38;5;124m'\u001b[39m\u001b[38;5;124mtan(4)\u001b[39m\u001b[38;5;124m'\u001b[39m]\n\u001b[0;32m----> 3\u001b[0m dict_stand, dict_naive, dict_impr, dict_soph, dict_ratio_soph, dict_diff_exp \u001b[38;5;241m=\u001b[39m \u001b[43meval_fitness\u001b[49m\u001b[43m(\u001b[49m\u001b[43meval_iterations\u001b[49m\u001b[38;5;241;43m=\u001b[39;49m\u001b[38;5;241;43m2\u001b[39;49m\u001b[43m,\u001b[49m\u001b[43m \u001b[49m\u001b[43minitial_inputs\u001b[49m\u001b[38;5;241;43m=\u001b[39;49m\u001b[43minitial_inputs\u001b[49m\u001b[43m,\u001b[49m\u001b[43m \u001b[49m\u001b[43miterations\u001b[49m\u001b[38;5;241;43m=\u001b[39;49m\u001b[38;5;241;43m20\u001b[39;49m\u001b[43m)\u001b[49m\n\u001b[1;32m      5\u001b[0m print_total_found_exc(dict_stand, \u001b[38;5;124m\"\u001b[39m\u001b[38;5;124mstandard\u001b[39m\u001b[38;5;124m\"\u001b[39m)\n\u001b[1;32m      6\u001b[0m print_output(dict_stand, \u001b[38;5;124m\"\u001b[39m\u001b[38;5;124mstandard\u001b[39m\u001b[38;5;124m\"\u001b[39m)\n",
      "Cell \u001b[0;32mIn[19], line 87\u001b[0m, in \u001b[0;36meval_fitness\u001b[0;34m(eval_iterations, initial_inputs, iterations)\u001b[0m\n\u001b[1;32m     84\u001b[0m \u001b[38;5;28;01mfor\u001b[39;00m iteration \u001b[38;5;129;01min\u001b[39;00m found_exc_inp_ratio_soph\u001b[38;5;241m.\u001b[39mkeys():\n\u001b[1;32m     85\u001b[0m     dict_ratio_soph[iteration] \u001b[38;5;241m+\u001b[39m\u001b[38;5;241m=\u001b[39m \u001b[38;5;28mlen\u001b[39m(found_exc_inp_ratio_soph[iteration])\n\u001b[0;32m---> 87\u001b[0m found_exc_inp_diff_exp \u001b[38;5;241m=\u001b[39m \u001b[43mepp_diff_exp\u001b[49m\u001b[38;5;241;43m.\u001b[39;49m\u001b[43mfuzz\u001b[49m\u001b[43m(\u001b[49m\u001b[43m)\u001b[49m\n\u001b[1;32m     88\u001b[0m \u001b[38;5;28;01mfor\u001b[39;00m iteration \u001b[38;5;129;01min\u001b[39;00m found_exc_inp_diff_exp\u001b[38;5;241m.\u001b[39mkeys():\n\u001b[1;32m     89\u001b[0m     dict_diff_exp[iteration] \u001b[38;5;241m+\u001b[39m\u001b[38;5;241m=\u001b[39m \u001b[38;5;28mlen\u001b[39m(found_exc_inp_diff_exp[iteration])\n",
      "File \u001b[0;32m~/se2/own/evogfuzzplusplus/src/evogfuzz/evogfuzz_class.py:295\u001b[0m, in \u001b[0;36mEvoGFuzz.fuzz\u001b[0;34m(self)\u001b[0m\n\u001b[1;32m    293\u001b[0m \u001b[38;5;28;01mif\u001b[39;00m \u001b[38;5;28mself\u001b[39m\u001b[38;5;241m.\u001b[39mlogging:\n\u001b[1;32m    294\u001b[0m     logging\u001b[38;5;241m.\u001b[39minfo(\u001b[38;5;124mf\u001b[39m\u001b[38;5;124m\"\u001b[39m\u001b[38;5;124mStarting iteration \u001b[39m\u001b[38;5;132;01m{\u001b[39;00m\u001b[38;5;28mself\u001b[39m\u001b[38;5;241m.\u001b[39m_iteration\u001b[38;5;132;01m}\u001b[39;00m\u001b[38;5;124m\"\u001b[39m)\n\u001b[0;32m--> 295\u001b[0m new_population \u001b[38;5;241m=\u001b[39m \u001b[38;5;28;43mself\u001b[39;49m\u001b[38;5;241;43m.\u001b[39;49m\u001b[43m_loop\u001b[49m\u001b[43m(\u001b[49m\u001b[43mnew_population\u001b[49m\u001b[43m)\u001b[49m\n\u001b[1;32m    296\u001b[0m \u001b[38;5;28mdict\u001b[39m[\u001b[38;5;28mself\u001b[39m\u001b[38;5;241m.\u001b[39m_iteration] \u001b[38;5;241m=\u001b[39m \u001b[38;5;28mself\u001b[39m\u001b[38;5;241m.\u001b[39mget_found_exceptions_inputs()\n\u001b[1;32m    297\u001b[0m \u001b[38;5;28mself\u001b[39m\u001b[38;5;241m.\u001b[39m_iteration \u001b[38;5;241m=\u001b[39m \u001b[38;5;28mself\u001b[39m\u001b[38;5;241m.\u001b[39m_iteration \u001b[38;5;241m+\u001b[39m \u001b[38;5;241m1\u001b[39m\n",
      "File \u001b[0;32m~/se2/own/evogfuzzplusplus/src/evogfuzz/evogfuzz_class.py:125\u001b[0m, in \u001b[0;36mEvoGFrame._loop\u001b[0;34m(self, test_inputs)\u001b[0m\n\u001b[1;32m    123\u001b[0m \u001b[38;5;66;03m# determine fitness of individuals\u001b[39;00m\n\u001b[1;32m    124\u001b[0m \u001b[38;5;28;01mfor\u001b[39;00m inp \u001b[38;5;129;01min\u001b[39;00m test_inputs:\n\u001b[0;32m--> 125\u001b[0m     inp\u001b[38;5;241m.\u001b[39mfitness \u001b[38;5;241m=\u001b[39m \u001b[38;5;28;43mself\u001b[39;49m\u001b[38;5;241;43m.\u001b[39;49m\u001b[43mfitness_function\u001b[49m\u001b[43m(\u001b[49m\u001b[43minp\u001b[49m\u001b[43m)\u001b[49m\n\u001b[1;32m    127\u001b[0m \u001b[38;5;28;01mfor\u001b[39;00m inp \u001b[38;5;129;01min\u001b[39;00m test_inputs:\n\u001b[1;32m    128\u001b[0m     \u001b[38;5;28mself\u001b[39m\u001b[38;5;241m.\u001b[39m_all_inputs\u001b[38;5;241m.\u001b[39madd(inp)\n",
      "Cell \u001b[0;32mIn[18], line 2\u001b[0m, in \u001b[0;36mdiff_expansions_fitness_function\u001b[0;34m(test_input)\u001b[0m\n\u001b[1;32m      1\u001b[0m \u001b[38;5;28;01mdef\u001b[39;00m \u001b[38;5;21mdiff_expansions_fitness_function\u001b[39m(test_input: Input) \u001b[38;5;241m-\u001b[39m\u001b[38;5;241m>\u001b[39m \u001b[38;5;28mfloat\u001b[39m:\n\u001b[0;32m----> 2\u001b[0m     score_structure, _ \u001b[38;5;241m=\u001b[39m \u001b[43mcount_diff_expansions\u001b[49m\u001b[43m(\u001b[49m\u001b[43m[\u001b[49m\u001b[43mtest_input\u001b[49m\u001b[38;5;241;43m.\u001b[39;49m\u001b[43mtree\u001b[49m\u001b[43m]\u001b[49m\u001b[43m,\u001b[49m\u001b[43m \u001b[49m\u001b[38;5;28;43mset\u001b[39;49m\u001b[43m(\u001b[49m\u001b[43m)\u001b[49m\u001b[43m)\u001b[49m\n\u001b[1;32m      3\u001b[0m     \u001b[38;5;28;01mif\u001b[39;00m test_input\u001b[38;5;241m.\u001b[39moracle \u001b[38;5;241m==\u001b[39m OracleResult\u001b[38;5;241m.\u001b[39mFAILING:\n\u001b[1;32m      4\u001b[0m         score_feedback \u001b[38;5;241m=\u001b[39m \u001b[38;5;241m100\u001b[39m\n",
      "Cell \u001b[0;32mIn[17], line 9\u001b[0m, in \u001b[0;36mcount_diff_expansions\u001b[0;34m(children, set)\u001b[0m\n\u001b[1;32m      7\u001b[0m node, next_children \u001b[38;5;241m=\u001b[39m child\n\u001b[1;32m      8\u001b[0m curr_set\u001b[38;5;241m.\u001b[39madd(node)\n\u001b[0;32m----> 9\u001b[0m next_score, next_set \u001b[38;5;241m=\u001b[39m \u001b[43mcount_diff_expansions\u001b[49m\u001b[43m(\u001b[49m\u001b[43mnext_children\u001b[49m\u001b[43m,\u001b[49m\u001b[43m \u001b[49m\u001b[43mcurr_set\u001b[49m\u001b[43m)\u001b[49m\n\u001b[1;32m     10\u001b[0m score \u001b[38;5;241m+\u001b[39m\u001b[38;5;241m=\u001b[39m next_score\n\u001b[1;32m     11\u001b[0m curr_set\u001b[38;5;241m.\u001b[39madd(next_set)\n",
      "Cell \u001b[0;32mIn[17], line 9\u001b[0m, in \u001b[0;36mcount_diff_expansions\u001b[0;34m(children, set)\u001b[0m\n\u001b[1;32m      7\u001b[0m node, next_children \u001b[38;5;241m=\u001b[39m child\n\u001b[1;32m      8\u001b[0m curr_set\u001b[38;5;241m.\u001b[39madd(node)\n\u001b[0;32m----> 9\u001b[0m next_score, next_set \u001b[38;5;241m=\u001b[39m \u001b[43mcount_diff_expansions\u001b[49m\u001b[43m(\u001b[49m\u001b[43mnext_children\u001b[49m\u001b[43m,\u001b[49m\u001b[43m \u001b[49m\u001b[43mcurr_set\u001b[49m\u001b[43m)\u001b[49m\n\u001b[1;32m     10\u001b[0m score \u001b[38;5;241m+\u001b[39m\u001b[38;5;241m=\u001b[39m next_score\n\u001b[1;32m     11\u001b[0m curr_set\u001b[38;5;241m.\u001b[39madd(next_set)\n",
      "Cell \u001b[0;32mIn[17], line 11\u001b[0m, in \u001b[0;36mcount_diff_expansions\u001b[0;34m(children, set)\u001b[0m\n\u001b[1;32m      9\u001b[0m     next_score, next_set \u001b[38;5;241m=\u001b[39m count_diff_expansions(next_children, curr_set)\n\u001b[1;32m     10\u001b[0m     score \u001b[38;5;241m+\u001b[39m\u001b[38;5;241m=\u001b[39m next_score\n\u001b[0;32m---> 11\u001b[0m     \u001b[43mcurr_set\u001b[49m\u001b[38;5;241;43m.\u001b[39;49m\u001b[43madd\u001b[49m\u001b[43m(\u001b[49m\u001b[43mnext_set\u001b[49m\u001b[43m)\u001b[49m\n\u001b[1;32m     13\u001b[0m \u001b[38;5;28;01mreturn\u001b[39;00m score \u001b[38;5;241m+\u001b[39m \u001b[38;5;28mlen\u001b[39m(curr_set), curr_set\n",
      "\u001b[0;31mTypeError\u001b[0m: unhashable type: 'set'"
     ]
    }
   ],
   "source": [
    "initial_inputs = ['sqrt(1)', 'cos(912)', 'tan(4)']\n",
    "\n",
    "dict_stand, dict_naive, dict_impr, dict_soph, dict_ratio_soph, dict_diff_exp = eval_fitness(eval_iterations=1, initial_inputs=initial_inputs, iterations=20)\n",
    "\n",
    "print_total_found_exc(dict_stand, \"standard\")\n",
    "print_output(dict_stand, \"standard\")\n",
    "\n",
    "print_total_found_exc(dict_naive, \"naive\")\n",
    "print_output(dict_naive, \"naive\")\n",
    "\n",
    "print_total_found_exc(dict_impr, \"improved\")\n",
    "print_output(dict_impr, \"improved\")\n",
    "\n",
    "print_total_found_exc(dict_soph, \"sophisticated\")\n",
    "print_output(dict_soph, \"sophisticated\")\n",
    "\n",
    "print_total_found_exc(dict_ratio_soph, \"ratio sophisticated\")\n",
    "print_output(dict_ratio_soph, \"ratio sophisticated\")\n",
    "\n",
    "print_total_found_exc(dict_diff_exp, \"different expansions\")\n",
    "print_output(dict_diff_exp, \"different expansions\")"
   ]
  },
  {
   "cell_type": "code",
   "execution_count": null,
   "id": "f3a096cd-69e6-48ca-a0de-86837c7c77fb",
   "metadata": {},
   "outputs": [],
   "source": []
  },
  {
   "cell_type": "code",
   "execution_count": null,
   "id": "33b3b8cb-afa7-49ec-b4f0-a862107fd81b",
   "metadata": {},
   "outputs": [],
   "source": []
  }
 ],
 "metadata": {
  "kernelspec": {
   "display_name": "Python 3 (ipykernel)",
   "language": "python",
   "name": "python3"
  },
  "language_info": {
   "codemirror_mode": {
    "name": "ipython",
    "version": 3
   },
   "file_extension": ".py",
   "mimetype": "text/x-python",
   "name": "python",
   "nbconvert_exporter": "python",
   "pygments_lexer": "ipython3",
   "version": "3.10.12"
  }
 },
 "nbformat": 4,
 "nbformat_minor": 5
}
