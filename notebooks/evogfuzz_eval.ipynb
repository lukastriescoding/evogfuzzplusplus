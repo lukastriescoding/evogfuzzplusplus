{
 "cells": [
  {
   "cell_type": "code",
   "execution_count": null,
   "id": "186170a4-b347-49b8-ac40-0da6b3dc076b",
   "metadata": {},
   "outputs": [],
   "source": [
    "import math\n",
    "\n",
    "def calculator(inp: str) -> float:\n",
    "    return eval(\n",
    "        str(inp), {\"sqrt\": math.sqrt, \"sin\": math.sin, \"cos\": math.cos, \"tan\": math.tan}\n",
    "    )"
   ]
  },
  {
   "cell_type": "code",
   "execution_count": null,
   "id": "d6c1f759-8299-415d-8fa1-8ad83d70661d",
   "metadata": {},
   "outputs": [],
   "source": [
    "# Make sure you use the OracleResult from the debugging_framework library\n",
    "from debugging_framework.input.oracle import OracleResult\n",
    "\n",
    "def oracle(inp: str):\n",
    "    try:\n",
    "        calculator(inp)\n",
    "    except ValueError as e:\n",
    "        return OracleResult.FAILING\n",
    "    \n",
    "    return OracleResult.PASSING"
   ]
  },
  {
   "cell_type": "code",
   "execution_count": null,
   "id": "db32f501-66e9-4e02-9606-caee823f543f",
   "metadata": {},
   "outputs": [],
   "source": [
    "from debugging_framework.types import Grammar\n",
    "from debugging_framework.fuzzingbook.grammar import is_valid_grammar\n",
    "\n",
    "CALCGRAMMAR: Grammar = {\n",
    "    \"<start>\":\n",
    "        [\"<function>(<term>)\"],\n",
    "\n",
    "    \"<function>\":\n",
    "        [\"sqrt\", \"tan\", \"cos\", \"sin\"],\n",
    "    \n",
    "    \"<term>\": [\"-<value>\", \"<value>\"], \n",
    "    \n",
    "    \"<value>\":\n",
    "        [\"<integer>.<integer>\",\n",
    "         \"<integer>\"],\n",
    "\n",
    "    \"<integer>\":\n",
    "        [\"<digit><integer>\", \"<digit>\"],\n",
    "\n",
    "    \"<digit>\":\n",
    "        [\"1\", \"2\", \"3\", \"4\", \"5\", \"6\", \"7\", \"8\", \"9\"]\n",
    "}\n",
    "    \n",
    "assert is_valid_grammar(CALCGRAMMAR)"
   ]
  },
  {
   "cell_type": "code",
   "execution_count": null,
   "id": "0bde30b5-8f33-4cad-aafe-ef5cabc8235a",
   "metadata": {},
   "outputs": [],
   "source": [
    "Help functions:\n",
    "TODO"
   ]
  },
  {
   "cell_type": "code",
   "execution_count": null,
   "id": "b31c854a-7b75-4cf4-a082-a22ed206b041",
   "metadata": {},
   "outputs": [],
   "source": [
    "def count_expansions(children):\n",
    "    if children == []:\n",
    "        return 0\n",
    "\n",
    "    counter = 1\n",
    "\n",
    "    for child in children:\n",
    "        _, next_children = child\n",
    "        counter += count_expansions(next_children)    \n",
    "    \n",
    "    return counter"
   ]
  },
  {
   "cell_type": "code",
   "execution_count": null,
   "id": "73848e18-15e5-46f4-b2be-53e4b8bca1e6",
   "metadata": {},
   "outputs": [],
   "source": [
    "Fitness functions:\n",
    "TODO"
   ]
  },
  {
   "cell_type": "code",
   "execution_count": null,
   "id": "5f9548d2-968a-43c0-93cf-b420d48d9084",
   "metadata": {},
   "outputs": [],
   "source": [
    "from evogfuzz.input import Input\n",
    "\n",
    "def improved_fitness_function(test_input: Input) -> float:\n",
    "    _, children = test_input.tree\n",
    "    number_expansions = count_expansions(children)\n",
    "    lam = 100\n",
    "    score_structure = (number_expansions**2)/(lam * len(str(test_input)))\n",
    "    if test_input.oracle == OracleResult.FAILING:\n",
    "        score_feedback = 100\n",
    "    else:\n",
    "        score_feedback = 0\n",
    "    return score_feedback + score_structure"
   ]
  },
  {
   "cell_type": "code",
   "execution_count": null,
   "id": "45eb1c2c-dd8f-4b8d-9637-16e849783c7f",
   "metadata": {},
   "outputs": [],
   "source": [
    "Calculate exception inputs for each fitness function\n",
    "TODO"
   ]
  },
  {
   "cell_type": "code",
   "execution_count": null,
   "id": "0129d758-89be-47f6-8f60-8ef82425c462",
   "metadata": {},
   "outputs": [],
   "source": [
    "from evogfuzz.evogfuzz_class import EvoGFuzz\n",
    "\n",
    "initial_inputs = ['sqrt(1)', 'cos(912)', 'tan(4)']\n",
    "\n",
    "epp = EvoGFuzz(\n",
    "    grammar=CALCGRAMMAR,\n",
    "    oracle=oracle,\n",
    "    inputs=initial_inputs,\n",
    "    iterations=10\n",
    ")\n",
    "\n",
    "\n",
    "\n",
    "found_exception_inputs = epp.fuzz()"
   ]
  }
 ],
 "metadata": {
  "kernelspec": {
   "display_name": "Python 3 (ipykernel)",
   "language": "python",
   "name": "python3"
  },
  "language_info": {
   "codemirror_mode": {
    "name": "ipython",
    "version": 3
   },
   "file_extension": ".py",
   "mimetype": "text/x-python",
   "name": "python",
   "nbconvert_exporter": "python",
   "pygments_lexer": "ipython3",
   "version": "3.10.14"
  }
 },
 "nbformat": 4,
 "nbformat_minor": 5
}
