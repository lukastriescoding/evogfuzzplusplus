{
 "cells": [
  {
   "cell_type": "code",
   "execution_count": 1,
   "id": "186170a4-b347-49b8-ac40-0da6b3dc076b",
   "metadata": {},
   "outputs": [],
   "source": [
    "import math\n",
    "\n",
    "def calculator(inp: str) -> float:\n",
    "    return eval(\n",
    "        str(inp), {\"sqrt\": math.sqrt, \"sin\": math.sin, \"cos\": math.cos, \"tan\": math.tan}\n",
    "    )"
   ]
  },
  {
   "cell_type": "code",
   "execution_count": 2,
   "id": "d6c1f759-8299-415d-8fa1-8ad83d70661d",
   "metadata": {},
   "outputs": [],
   "source": [
    "# Make sure you use the OracleResult from the debugging_framework library\n",
    "from debugging_framework.input.oracle import OracleResult\n",
    "\n",
    "def oracle(inp: str):\n",
    "    try:\n",
    "        calculator(inp)\n",
    "    except ValueError as e:\n",
    "        return OracleResult.FAILING\n",
    "    \n",
    "    return OracleResult.PASSING"
   ]
  },
  {
   "cell_type": "code",
   "execution_count": 3,
   "id": "db32f501-66e9-4e02-9606-caee823f543f",
   "metadata": {},
   "outputs": [],
   "source": [
    "from debugging_framework.types import Grammar\n",
    "from debugging_framework.fuzzingbook.grammar import is_valid_grammar\n",
    "\n",
    "CALCGRAMMAR: Grammar = {\n",
    "    \"<start>\":\n",
    "        [\"<function>(<term>)\"],\n",
    "\n",
    "    \"<function>\":\n",
    "        [\"sqrt\", \"tan\", \"cos\", \"sin\"],\n",
    "    \n",
    "    \"<term>\": [\"-<value>\", \"<value>\"], \n",
    "    \n",
    "    \"<value>\":\n",
    "        [\"<integer>.<integer>\",\n",
    "         \"<integer>\"],\n",
    "\n",
    "    \"<integer>\":\n",
    "        [\"<digit><integer>\", \"<digit>\"],\n",
    "\n",
    "    \"<digit>\":\n",
    "        [\"1\", \"2\", \"3\", \"4\", \"5\", \"6\", \"7\", \"8\", \"9\"]\n",
    "}\n",
    "    \n",
    "assert is_valid_grammar(CALCGRAMMAR)"
   ]
  },
  {
   "cell_type": "markdown",
   "id": "d7d27748-79f2-46d4-922f-9af87de5e8e2",
   "metadata": {},
   "source": [
    "Help functions:\n",
    "TODO"
   ]
  },
  {
   "cell_type": "code",
   "execution_count": 4,
   "id": "b31c854a-7b75-4cf4-a082-a22ed206b041",
   "metadata": {},
   "outputs": [],
   "source": [
    "def count_expansions(children):\n",
    "    if children == []:\n",
    "        return 0\n",
    "\n",
    "    counter = 1\n",
    "\n",
    "    for child in children:\n",
    "        _, next_children = child\n",
    "        counter += count_expansions(next_children)    \n",
    "    \n",
    "    return counter"
   ]
  },
  {
   "cell_type": "code",
   "execution_count": 5,
   "id": "5e8f2626-29bf-4de3-b0fb-d8312ffd1e7f",
   "metadata": {},
   "outputs": [],
   "source": [
    "def calculate_sophisticated_score_structure(children, height):\n",
    "    score = 0\n",
    "    \n",
    "    for child in children:\n",
    "        node, next_children = child        \n",
    "        score += len(next_children)**height\n",
    "        score += calculate_sophisticated_score_structure(next_children, height+1)\n",
    "\n",
    "    return score"
   ]
  },
  {
   "cell_type": "code",
   "execution_count": 6,
   "id": "881002b2-02fc-4609-9ba8-108ee99f1e87",
   "metadata": {},
   "outputs": [],
   "source": [
    "def calculate_height_and_degreeSum(children, height):\n",
    "    max_height = height\n",
    "    score = 0\n",
    "    \n",
    "    for child in children:\n",
    "        node, next_children = child\n",
    "        score += len(next_children)**height\n",
    "        next_score, next_height = calculate_height_and_degreeSum(next_children, height+1)\n",
    "        score += next_score\n",
    "        if next_height > max_height:\n",
    "            max_height = next_height\n",
    "            \n",
    "    return score, max_height"
   ]
  },
  {
   "cell_type": "markdown",
   "id": "beee25d2-1432-46aa-9b2f-b60f5fa2e8a1",
   "metadata": {},
   "source": [
    "Fitness functions:\n",
    "TODO"
   ]
  },
  {
   "cell_type": "code",
   "execution_count": 7,
   "id": "1c59e65b-ddb4-41ec-9d99-be8594b7048b",
   "metadata": {},
   "outputs": [],
   "source": [
    "from evogfuzz.input import Input"
   ]
  },
  {
   "cell_type": "code",
   "execution_count": 8,
   "id": "3dc16d4e-d9a6-4002-a342-73232114e646",
   "metadata": {},
   "outputs": [],
   "source": [
    "def naive_fitness_function(test_input: Input) -> int:\n",
    "    score_structure = len(str(test_input))\n",
    "    if test_input.oracle == OracleResult.FAILING:\n",
    "        score_feedback = 100\n",
    "    else:\n",
    "        score_feedback = 0\n",
    "    return score_feedback + score_structure"
   ]
  },
  {
   "cell_type": "code",
   "execution_count": 9,
   "id": "5f9548d2-968a-43c0-93cf-b420d48d9084",
   "metadata": {},
   "outputs": [],
   "source": [
    "def improved_fitness_function(test_input: Input) -> float:\n",
    "    _, children = test_input.tree\n",
    "    number_expansions = count_expansions(children)\n",
    "    lam = 100\n",
    "    score_structure = (number_expansions**2)/(lam * len(str(test_input)))\n",
    "    if test_input.oracle == OracleResult.FAILING:\n",
    "        score_feedback = 100\n",
    "    else:\n",
    "        score_feedback = 0\n",
    "    return score_feedback + score_structure"
   ]
  },
  {
   "cell_type": "code",
   "execution_count": 13,
   "id": "39c51bdc-5585-4eb8-82f1-a9e94d492d58",
   "metadata": {},
   "outputs": [],
   "source": [
    "def sophisticated_fitness_function(test_input: Input) -> float:\n",
    "    score_structure = calculate_sophisticated_score_structure([test_input.tree],0)\n",
    "    if test_input.oracle == OracleResult.FAILING:\n",
    "        score_feedback = 2**100\n",
    "    else:\n",
    "        score_feedback = 0\n",
    "    return score_feedback + score_structure"
   ]
  },
  {
   "cell_type": "code",
   "execution_count": 11,
   "id": "4c530426-b757-4d58-9b44-19bc8ebf6a5e",
   "metadata": {},
   "outputs": [],
   "source": [
    "def ratio_sophisticated_fitness_function(test_input: Input) -> float:\n",
    "    #_, children = test_input.tree\n",
    "    lam = 2**50\n",
    "    degreeSums, height = calculate_height_and_degreeSum([test_input.tree],0)\n",
    "    score_structure = degreeSums/(lam * height)\n",
    "    if test_input.oracle == OracleResult.FAILING:\n",
    "        score_feedback = 100\n",
    "    else:\n",
    "        score_feedback = 0\n",
    "    return score_feedback + score_structure"
   ]
  },
  {
   "cell_type": "markdown",
   "id": "8851efeb-634f-4951-88a8-4d2a2c916566",
   "metadata": {},
   "source": [
    "Calculate exception inputs for each fitness function\n",
    "TODO"
   ]
  },
  {
   "cell_type": "code",
   "execution_count": 14,
   "id": "0129d758-89be-47f6-8f60-8ef82425c462",
   "metadata": {},
   "outputs": [],
   "source": [
    "from evogfuzz.evogfuzz_class import EvoGFuzz\n",
    "\n",
    "initial_inputs = ['sqrt(1)', 'cos(912)', 'tan(4)']\n",
    "\n",
    "epp = EvoGFuzz(\n",
    "    grammar=CALCGRAMMAR,\n",
    "    oracle=oracle,\n",
    "    inputs=initial_inputs,\n",
    "    iterations=10\n",
    ")\n",
    "\n",
    "epp_naive = EvoGFuzz(\n",
    "    grammar=CALCGRAMMAR,\n",
    "    oracle=oracle,\n",
    "    inputs=initial_inputs,\n",
    "    fitness_function=naive_fitness_function,\n",
    "    iterations=10\n",
    ")\n",
    "\n",
    "epp_improved = EvoGFuzz(\n",
    "    grammar=CALCGRAMMAR,\n",
    "    oracle=oracle,\n",
    "    inputs=initial_inputs,\n",
    "    fitness_function=improved_fitness_function,\n",
    "    iterations=10\n",
    ")\n",
    "\n",
    "epp_sophisticated = EvoGFuzz(\n",
    "    grammar=CALCGRAMMAR,\n",
    "    oracle=oracle,\n",
    "    inputs=initial_inputs,\n",
    "    fitness_function=sophisticated_fitness_function,\n",
    "    iterations=10\n",
    ")\n",
    "\n",
    "epp_ratio_sophisticated = EvoGFuzz(\n",
    "    grammar=CALCGRAMMAR,\n",
    "    oracle=oracle,\n",
    "    inputs=initial_inputs,\n",
    "    fitness_function=ratio_sophisticated_fitness_function,\n",
    "    iterations=10\n",
    ")\n",
    "\n",
    "\n",
    "\n",
    "found_exception_inputs = epp.fuzz()\n",
    "found_exception_inputs_naive = epp_naive.fuzz()\n",
    "found_exception_inputs_improved = epp_improved.fuzz()\n",
    "found_exception_inputs_sophisticated = epp_sophisticated.fuzz()\n",
    "found_exception_inputs_ratio_sophisticated = epp_ratio_sophisticated.fuzz()\n"
   ]
  },
  {
   "cell_type": "code",
   "execution_count": 16,
   "id": "16fae788-f9f9-4bd5-9a63-16351ddf4983",
   "metadata": {},
   "outputs": [
    {
     "name": "stdout",
     "output_type": "stream",
     "text": [
      "standard: 387\n",
      "naive: 313\n",
      "improved: 0\n",
      "sophisticated: 127\n",
      "ratio_sophisticated: 0\n"
     ]
    }
   ],
   "source": [
    "print(\"standard:\", len(found_exception_inputs))\n",
    "print(\"naive:\", len(found_exception_inputs_naive))\n",
    "print(\"improved:\", len(found_exception_inputs_improved))\n",
    "print(\"sophisticated:\", len(found_exception_inputs_sophisticated))\n",
    "print(\"ratio_sophisticated:\", len(found_exception_inputs_ratio_sophisticated))\n"
   ]
  },
  {
   "cell_type": "code",
   "execution_count": null,
   "id": "799ffbbb-d605-4c99-afbb-2004f8e9148d",
   "metadata": {},
   "outputs": [],
   "source": []
  },
  {
   "cell_type": "code",
   "execution_count": null,
   "id": "39eff4df-2c0d-43e5-993f-f009a74e16ac",
   "metadata": {},
   "outputs": [],
   "source": []
  }
 ],
 "metadata": {
  "kernelspec": {
   "display_name": "Python 3 (ipykernel)",
   "language": "python",
   "name": "python3"
  },
  "language_info": {
   "codemirror_mode": {
    "name": "ipython",
    "version": 3
   },
   "file_extension": ".py",
   "mimetype": "text/x-python",
   "name": "python",
   "nbconvert_exporter": "python",
   "pygments_lexer": "ipython3",
   "version": "3.10.14"
  }
 },
 "nbformat": 4,
 "nbformat_minor": 5
}
