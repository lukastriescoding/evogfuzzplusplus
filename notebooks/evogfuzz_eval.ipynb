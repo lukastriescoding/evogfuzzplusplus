{
 "cells": [
  {
   "cell_type": "markdown",
   "id": "d91fa576-adaf-443a-80c3-2a3bb4123d99",
   "metadata": {},
   "source": [
    "\n",
    "# Evalutating different fitness functions for EvoGFuzz\n",
    "\n",
    "In our project we implement the three given fitness functions with a ```naive```, an ```improved``` and a ```sophisticated``` approach, that were given in the **EvoGFuzz** paper. We then came up with a new approach that uses and aims to improve the ```sophisticated``` approach. We call it the ```ratioed sophisticated``` approach. In this notebook we evaluate each of the approach.\n"
   ]
  },
  {
   "cell_type": "markdown",
   "id": "d7cf7e2c-3e9c-42d5-b751-1e3e71a4dc76",
   "metadata": {},
   "source": [
    "We use the same example as **EvoGFuzz** and therefore need to define our calculator, its oracle and the grammar."
   ]
  },
  {
   "cell_type": "code",
   "execution_count": 58,
   "id": "186170a4-b347-49b8-ac40-0da6b3dc076b",
   "metadata": {},
   "outputs": [],
   "source": [
    "import math\n",
    "\n",
    "def calculator(inp: str) -> float:\n",
    "    return eval(\n",
    "        str(inp), {\"sqrt\": math.sqrt, \"sin\": math.sin, \"cos\": math.cos, \"tan\": math.tan}\n",
    "    )"
   ]
  },
  {
   "cell_type": "code",
   "execution_count": 59,
   "id": "d6c1f759-8299-415d-8fa1-8ad83d70661d",
   "metadata": {},
   "outputs": [],
   "source": [
    "# Make sure you use the OracleResult from the debugging_framework library\n",
    "from debugging_framework.input.oracle import OracleResult\n",
    "\n",
    "def oracle(inp: str):\n",
    "    try:\n",
    "        calculator(inp)\n",
    "    except Exception as exc:\n",
    "        return OracleResult.FAILING\n",
    "    \n",
    "    return OracleResult.PASSING"
   ]
  },
  {
   "cell_type": "code",
   "execution_count": 60,
   "id": "db32f501-66e9-4e02-9606-caee823f543f",
   "metadata": {},
   "outputs": [],
   "source": [
    "from debugging_framework.types import Grammar\n",
    "from debugging_framework.fuzzingbook.grammar import is_valid_grammar\n",
    "\n",
    "CALC_GRAMMAR: Grammar = {\n",
    "    \"<start>\":\n",
    "        [\"<function>(<term>)\"],\n",
    "\n",
    "    \"<function>\":\n",
    "        [\"sqrt\", \"tan\", \"cos\", \"sin\"],\n",
    "    \n",
    "    \"<term>\": [\"-<value>\", \"<value>\"], \n",
    "    \n",
    "    \"<value>\":\n",
    "        [\"<integer>.<integer>\",\n",
    "         \"<integer>\"],\n",
    "\n",
    "    \"<integer>\":\n",
    "        [\"<digit><integer>\", \"<digit>\"],\n",
    "\n",
    "    \"<digit>\":\n",
    "        [\"1\", \"2\", \"3\", \"4\", \"5\", \"6\", \"7\", \"8\", \"9\"]\n",
    "}\n",
    "    \n",
    "assert is_valid_grammar(CALC_GRAMMAR)"
   ]
  },
  {
   "cell_type": "code",
   "execution_count": 61,
   "id": "9e2309f0-0fdb-45c2-bec0-7e241c5fd7a1",
   "metadata": {},
   "outputs": [],
   "source": [
    "EXPR_GRAMMAR:  Grammar = {\n",
    "    \"<start>\":\n",
    "        [\"<expr>\"],\n",
    "\n",
    "    \"<expr>\":\n",
    "        [\"<term> + <expr>\", \"<term> - <expr>\", \"<term>\"],\n",
    "\n",
    "    \"<term>\":\n",
    "        [\"<factor> * <term>\", \"<factor> / <term>\", \"<factor>\"],\n",
    "\n",
    "    \"<factor>\":\n",
    "        [\"+<factor>\",\n",
    "         \"-<factor>\",\n",
    "         \"(<expr>)\",\n",
    "         \"<integer>.<integer>\",\n",
    "         \"<integer>\"],\n",
    "\n",
    "    \"<integer>\":\n",
    "        [\"<digit><integer>\", \"<digit>\"],\n",
    "\n",
    "    \"<digit>\":\n",
    "        [\"0\", \"1\", \"2\", \"3\", \"4\", \"5\", \"6\", \"7\", \"8\", \"9\"]\n",
    "}\n",
    "assert is_valid_grammar(EXPR_GRAMMAR)"
   ]
  },
  {
   "cell_type": "code",
   "execution_count": 62,
   "id": "d92ea833-7c5b-4aed-bec5-3d7422bc571a",
   "metadata": {},
   "outputs": [],
   "source": [
    "COMPL_CALC_GRAMMAR: Grammar = {\n",
    "    \"<start>\":\n",
    "        [\"<expr>\"],\n",
    "\n",
    "    \"<expr>\":\n",
    "        [\"<term> + <expr>\", \"<term> - <expr>\", \"<term>\"],\n",
    "\n",
    "    \"<term>\":\n",
    "        [\"<factor> * <term>\", \"<factor> / <term>\", \"<factor>\", \"<function>(<term>)\"],\n",
    "\n",
    "    \"<function>\":\n",
    "        [\"sqrt\", \"tan\", \"cos\", \"sin\"],\n",
    "\n",
    "    \"<factor>\":\n",
    "        [\"+<factor>\",\n",
    "         \"-<factor>\",\n",
    "         \"(<expr>)\",\n",
    "         \"<integer>.<integer>\",\n",
    "         \"<integer>\"],\n",
    "\n",
    "    \"<integer>\":\n",
    "        [\"<digit><integer>\", \"<digit>\"],\n",
    "\n",
    "    \"<digit>\":\n",
    "        [\"0\", \"1\", \"2\", \"3\", \"4\", \"5\", \"6\", \"7\", \"8\", \"9\"]\n",
    "}\n",
    "assert is_valid_grammar(COMPL_CALC_GRAMMAR)"
   ]
  },
  {
   "cell_type": "markdown",
   "id": "d7d27748-79f2-46d4-922f-9af87de5e8e2",
   "metadata": {},
   "source": [
    "For the new fitness functions we also need to define some helper functions, that we use later on. \n",
    "\n",
    "We start by defining a function ```count_expansions``` for the ```improved``` approach, that returns the number of expansions of a tree, when given the first children of the root of the derivation tree.\n",
    "\n",
    "We then define the ```calculate_sophisticated_score_structure``` function, that calculated the score structure which considers more complex expansions that are more nested. We sum up the degree exponantiated with the height of the individual nodes.\n",
    "\n",
    "As for our ```ratioed sophisticated``` approach we need the maximum height of the tree to devide by it, we also define a function similar to the one before, that also returns the max height of the derivation tree. We named it ```calculate_height_and_degreeSum```."
   ]
  },
  {
   "cell_type": "code",
   "execution_count": 63,
   "id": "b31c854a-7b75-4cf4-a082-a22ed206b041",
   "metadata": {},
   "outputs": [],
   "source": [
    "def count_expansions(children):\n",
    "    if children == []:\n",
    "        return 0\n",
    "\n",
    "    counter = 1\n",
    "\n",
    "    for child in children:\n",
    "        _, next_children = child\n",
    "        counter += count_expansions(next_children)    \n",
    "    \n",
    "    return counter"
   ]
  },
  {
   "cell_type": "code",
   "execution_count": 64,
   "id": "5e8f2626-29bf-4de3-b0fb-d8312ffd1e7f",
   "metadata": {},
   "outputs": [],
   "source": [
    "def calculate_sophisticated_score_structure(children, height):\n",
    "    score = 0\n",
    "    \n",
    "    for child in children:\n",
    "        node, next_children = child        \n",
    "        score += len(next_children)**height\n",
    "        score += calculate_sophisticated_score_structure(next_children, height+1)\n",
    "\n",
    "    return score"
   ]
  },
  {
   "cell_type": "code",
   "execution_count": 65,
   "id": "881002b2-02fc-4609-9ba8-108ee99f1e87",
   "metadata": {},
   "outputs": [],
   "source": [
    "def calculate_height_and_degreeSum(children, height):\n",
    "    max_height = height\n",
    "    score = 0\n",
    "    \n",
    "    for child in children:\n",
    "        node, next_children = child\n",
    "        score += len(next_children)**height\n",
    "        next_score, next_height = calculate_height_and_degreeSum(next_children, height+1)\n",
    "        score += next_score\n",
    "        if next_height > max_height:\n",
    "            max_height = next_height\n",
    "            \n",
    "    return score, max_height"
   ]
  },
  {
   "cell_type": "code",
   "execution_count": 66,
   "id": "a78c4541",
   "metadata": {},
   "outputs": [],
   "source": [
    "def get_diff_expansions(children, exp_set):\n",
    "\n",
    "    expansion = \"\"\n",
    "    for child in children:\n",
    "        node, _ = child\n",
    "        expansion += node\n",
    "\n",
    "    exp_set.add(expansion)\n",
    "\n",
    "    for child in children:\n",
    "        _, next_children = child\n",
    "        exp_set.update(get_diff_expansions(next_children, exp_set))\n",
    "\n",
    "    return exp_set"
   ]
  },
  {
   "cell_type": "markdown",
   "id": "beee25d2-1432-46aa-9b2f-b60f5fa2e8a1",
   "metadata": {},
   "source": [
    "AS mentioned before the **EvoGFuzz** paper took a very simple approach for calculating the fitness of each input. The paper itself suggested three different functions that might improve the outcome for future work. A ```naive```, an ```improved``` and a ```sophisticated``` approach. \n",
    "\n",
    "The ```naive``` approach simply takes in the length of the input. To reward a failing input, we add 100 to the score. We implement this in the ```naive_fitness_function```.\n",
    "\n",
    "For the ```improved``` approach we count the expansions of the derivation tree, square it and devide it by the length of the input and multiply the length by a paramater $\\lambda$. We reward failing inputs as before. This is implemented in the ```improved_fitness_function```.\n",
    "\n",
    "The ```sophisticated``` approach rewards more complex expansions. For that we also need the degree of each node, which is then exponantiated by the height of it. As the fitness scores tends to get quite large, we need to reward failing inputs by adding $2^{100}$ to it.\n",
    "\n",
    "For our approach, we wanted to put the complexity of the expansion into perspective of the height of the derivation tree. We calculate our score as follows:\n",
    "$$\n",
    "score_{structure}(x) = \\frac{\\sum_{\\forall v\\in V}deg(v)^{h(v)}}{\\lambda \\cdot h} \\text{.}\n",
    "$$\n",
    "We reward a failing input the same as in the first 2 approaches. It's implemented in the ```ratio_sophisticated_fitness_function```."
   ]
  },
  {
   "cell_type": "code",
   "execution_count": 67,
   "id": "1c59e65b-ddb4-41ec-9d99-be8594b7048b",
   "metadata": {},
   "outputs": [],
   "source": [
    "from evogfuzz.input import Input"
   ]
  },
  {
   "cell_type": "code",
   "execution_count": 68,
   "id": "3dc16d4e-d9a6-4002-a342-73232114e646",
   "metadata": {},
   "outputs": [],
   "source": [
    "def naive_fitness_function(test_input: Input) -> int:\n",
    "    score_structure = len(str(test_input))\n",
    "    if test_input.oracle == OracleResult.FAILING:\n",
    "        score_feedback = 100\n",
    "    else:\n",
    "        score_feedback = 0\n",
    "    return score_feedback + score_structure"
   ]
  },
  {
   "cell_type": "code",
   "execution_count": 69,
   "id": "5f9548d2-968a-43c0-93cf-b420d48d9084",
   "metadata": {},
   "outputs": [],
   "source": [
    "def improved_fitness_function(test_input: Input) -> float:\n",
    "    _, children = test_input.tree\n",
    "    number_expansions = count_expansions(children)\n",
    "    lam = 100\n",
    "    score_structure = (number_expansions**2)/(lam * len(str(test_input)))\n",
    "    if test_input.oracle == OracleResult.FAILING:\n",
    "        score_feedback = 100\n",
    "    else:\n",
    "        score_feedback = 0\n",
    "    return score_feedback + score_structure"
   ]
  },
  {
   "cell_type": "code",
   "execution_count": 70,
   "id": "39c51bdc-5585-4eb8-82f1-a9e94d492d58",
   "metadata": {},
   "outputs": [],
   "source": [
    "def sophisticated_fitness_function(test_input: Input) -> int:\n",
    "    score_structure = calculate_sophisticated_score_structure([test_input.tree],0)\n",
    "    if test_input.oracle == OracleResult.FAILING:\n",
    "        score_feedback = 2**100\n",
    "    else:\n",
    "        score_feedback = 0\n",
    "    return score_feedback + score_structure"
   ]
  },
  {
   "cell_type": "code",
   "execution_count": 71,
   "id": "4c530426-b757-4d58-9b44-19bc8ebf6a5e",
   "metadata": {},
   "outputs": [],
   "source": [
    "def ratio_sophisticated_fitness_function(test_input: Input) -> float:\n",
    "    lam = 2**50\n",
    "    degreeSums, height = calculate_height_and_degreeSum([test_input.tree],0)\n",
    "    score_structure = degreeSums/(lam * height)\n",
    "    if test_input.oracle == OracleResult.FAILING:\n",
    "        score_feedback = 100\n",
    "    else:\n",
    "        score_feedback = 0\n",
    "    return score_feedback + score_structure"
   ]
  },
  {
   "cell_type": "code",
   "execution_count": 72,
   "id": "abd9dc68",
   "metadata": {},
   "outputs": [],
   "source": [
    "def diff_expansions_fitness_function(test_input: Input) -> int:\n",
    "    score_structure = len(get_diff_expansions([test_input.tree], set()))\n",
    "    if test_input.oracle == OracleResult.FAILING:\n",
    "        score_feedback = 100\n",
    "    else:\n",
    "        score_feedback = 0\n",
    "    return score_feedback + score_structure"
   ]
  },
  {
   "cell_type": "markdown",
   "id": "8851efeb-634f-4951-88a8-4d2a2c916566",
   "metadata": {},
   "source": [
    "Finally we can define EvoGFuzz instances with all different fitness functions. For comparison, we start with defining an instance with the standard fitness function and thereafter define one for each of ours.\n"
   ]
  },
  {
   "cell_type": "code",
   "execution_count": 73,
   "id": "799ffbbb-d605-4c99-afbb-2004f8e9148d",
   "metadata": {},
   "outputs": [],
   "source": [
    "from evogfuzz.evogfuzz_class import EvoGFuzz\n",
    "\n",
    "def eval_fitness(eval_iterations,initial_inputs,iterations, grammar):\n",
    "    \"\"\"\n",
    "    Evaluate the differnet fitness functions.\n",
    "    :param eval_iterations: The number of iterations we use to calculate the found exception inputs.\n",
    "    :param initial_inputs: The input from which EvoGFuzz starts to train.\n",
    "    :param itarations: The number of iterations EvoGFuzz trains.\n",
    "    :return: The total number of found exception inputs per iteration.\n",
    "    \"\"\"\n",
    "    \n",
    "    dict_stand = {i: 0 for i in range(iterations)}\n",
    "    dict_naive = {i: 0 for i in range(iterations)}\n",
    "    dict_impr = {i:0 for i in range(iterations)}\n",
    "    dict_soph = {i:0 for i in range(iterations)}\n",
    "    dict_ratio_soph = {i:0 for i in range(iterations)}\n",
    "    dict_diff_exp = {i:0 for i in range(iterations)}\n",
    "    \n",
    "    for i in range(eval_iterations):\n",
    "        epp_stand = EvoGFuzz(\n",
    "            grammar=grammar,\n",
    "            oracle=oracle,\n",
    "            inputs=initial_inputs,\n",
    "            iterations=iterations\n",
    "        )\n",
    "        \n",
    "        epp_naive = EvoGFuzz(\n",
    "            grammar=grammar,\n",
    "            oracle=oracle,\n",
    "            inputs=initial_inputs,\n",
    "            fitness_function=naive_fitness_function,\n",
    "            iterations=iterations\n",
    "        )\n",
    "        \n",
    "        epp_impr = EvoGFuzz(\n",
    "            grammar=grammar,\n",
    "            oracle=oracle,\n",
    "            inputs=initial_inputs,\n",
    "            fitness_function=improved_fitness_function,\n",
    "            iterations=iterations\n",
    "        )\n",
    "        \n",
    "        epp_soph = EvoGFuzz(\n",
    "            grammar=grammar,\n",
    "            oracle=oracle,\n",
    "            inputs=initial_inputs,\n",
    "            fitness_function=sophisticated_fitness_function,\n",
    "            iterations=iterations\n",
    "        )\n",
    "\n",
    "        epp_ratio_soph = EvoGFuzz(\n",
    "            grammar=grammar,\n",
    "            oracle=oracle,\n",
    "            inputs=initial_inputs,\n",
    "            fitness_function=ratio_sophisticated_fitness_function,\n",
    "            iterations=iterations\n",
    "        )\n",
    "        \n",
    "        epp_diff_exp = EvoGFuzz(\n",
    "            grammar=grammar,\n",
    "            oracle=oracle,\n",
    "            inputs=initial_inputs,\n",
    "            fitness_function=diff_expansions_fitness_function,\n",
    "            iterations=iterations\n",
    "        )\n",
    "        \n",
    "        found_exc_inp_stand = epp_stand.fuzz()\n",
    "        for iteration in found_exc_inp_stand.keys():\n",
    "            dict_stand[iteration] += len(found_exc_inp_stand[iteration])\n",
    "        \n",
    "        found_exc_inp_naive = epp_naive.fuzz()\n",
    "        for iteration in found_exc_inp_naive.keys():\n",
    "            dict_naive[iteration] += len(found_exc_inp_naive[iteration])\n",
    "            \n",
    "        found_exc_inp_impr = epp_impr.fuzz()\n",
    "        for iteration in found_exc_inp_impr.keys():\n",
    "            dict_impr[iteration] += len(found_exc_inp_impr[iteration])\n",
    "            \n",
    "        found_exc_inp_soph = epp_soph.fuzz()\n",
    "        for iteration in found_exc_inp_soph.keys():\n",
    "            dict_soph[iteration] += len(found_exc_inp_soph[iteration])\n",
    "            \n",
    "        found_exc_inp_ratio_soph = epp_ratio_soph.fuzz()\n",
    "        for iteration in found_exc_inp_ratio_soph.keys():\n",
    "            dict_ratio_soph[iteration] += len(found_exc_inp_ratio_soph[iteration])\n",
    "            \n",
    "        found_exc_inp_diff_exp = epp_diff_exp.fuzz()\n",
    "        for iteration in found_exc_inp_diff_exp.keys():\n",
    "            dict_diff_exp[iteration] += len(found_exc_inp_diff_exp[iteration])\n",
    "\n",
    "    return dict_stand, dict_naive, dict_impr, dict_soph, dict_ratio_soph, dict_diff_exp"
   ]
  },
  {
   "cell_type": "code",
   "execution_count": 74,
   "id": "a1ee01e2-5d51-4db7-a695-5855a4b4fc00",
   "metadata": {},
   "outputs": [],
   "source": [
    "def print_total_found_exc(dict_found_exc_inp, iterations, fitness):\n",
    "    total = dict_found_exc_inp[iterations-1]\n",
    "    print(f\"EvoGFuzz found {total} bug-triggering inputs with the {fitness} fitness function!\")"
   ]
  },
  {
   "cell_type": "code",
   "execution_count": 75,
   "id": "85acca60-d147-48ca-b2c7-60f8aac2796d",
   "metadata": {},
   "outputs": [],
   "source": [
    "def print_output(dict_found_exc_inp, fitness):\n",
    "    print(fitness, end=\"\\n\")\n",
    "    for iteration in dict_found_exc_inp.keys():\n",
    "        print(iteration, \":\", dict_found_exc_inp[iteration], end=\"\\n\")\n",
    "    print(\"\\n\\n\")"
   ]
  },
  {
   "cell_type": "code",
   "execution_count": 84,
   "id": "39eff4df-2c0d-43e5-993f-f009a74e16ac",
   "metadata": {},
   "outputs": [
    {
     "ename": "SyntaxError",
     "evalue": "at 'sqrt(1)' (<string>)",
     "output_type": "error",
     "traceback": [
      "Traceback \u001b[0;36m(most recent call last)\u001b[0m:\n",
      "\u001b[0m  File \u001b[1;32m~/se2/own/evogfuzzplusplus/venv/lib/python3.10/site-packages/IPython/core/interactiveshell.py:3577\u001b[0m in \u001b[1;35mrun_code\u001b[0m\n    exec(code_obj, self.user_global_ns, self.user_ns)\u001b[0m\n",
      "\u001b[0m  Cell \u001b[1;32mIn[84], line 6\u001b[0m\n    dict_stand, dict_naive, dict_impr, dict_soph, dict_ratio_soph, dict_diff_exp = eval_fitness(eval_iterations, initial_inputs, iterations, grammar)\u001b[0m\n",
      "\u001b[0m  Cell \u001b[1;32mIn[73], line 20\u001b[0m in \u001b[1;35meval_fitness\u001b[0m\n    epp_stand = EvoGFuzz(\u001b[0m\n",
      "\u001b[0m  File \u001b[1;32m~/se2/own/evogfuzzplusplus/src/evogfuzz/evogfuzz_class.py:97\u001b[0m in \u001b[1;35m__init__\u001b[0m\n    next(EarleyParser(grammar).parse(inp))\u001b[0m\n",
      "\u001b[0;36m  File \u001b[0;32m~/se2/own/evogfuzzplusplus/venv/lib/python3.10/site-packages/isla/parser.py:315\u001b[0;36m in \u001b[0;35mparse\u001b[0;36m\n\u001b[0;31m    raise SyntaxError(\"at \" + repr(text[cursor:]))\u001b[0;36m\n",
      "\u001b[0;36m  File \u001b[0;32m<string>\u001b[0;36m\u001b[0m\n\u001b[0;31mSyntaxError\u001b[0m\u001b[0;31m:\u001b[0m at 'sqrt(1)'\n"
     ]
    }
   ],
   "source": [
    "eval_iterations = 190\n",
    "initial_inputs = ['sqrt(1)', 'cos(912)', 'tan(4)']#['2 + 2', '-6 / 9', '-(23 * 7)']\n",
    "iterations = 10\n",
    "grammar = COMPL_CALC_GRAMMAR\n",
    "\n",
    "dict_stand, dict_naive, dict_impr, dict_soph, dict_ratio_soph, dict_diff_exp = eval_fitness(eval_iterations, initial_inputs, iterations, grammar)\n",
    "\n",
    "print_total_found_exc(dict_stand, iterations, \"standard\")\n",
    "print_output(dict_stand, \"standard\")\n",
    "\n",
    "print_total_found_exc(dict_naive, iterations, \"naive\")\n",
    "print_output(dict_naive, \"naive\")\n",
    "\n",
    "print_total_found_exc(dict_impr, iterations, \"improved\")\n",
    "print_output(dict_impr, \"improved\")\n",
    "\n",
    "print_total_found_exc(dict_soph, iterations, \"sophisticated\")\n",
    "print_output(dict_soph, \"sophisticated\")\n",
    "\n",
    "print_total_found_exc(dict_ratio_soph, iterations, \"ratioed sophisticated\")\n",
    "print_output(dict_ratio_soph, \"ratioed sophisticated\")\n",
    "\n",
    "print_total_found_exc(dict_diff_exp, iterations, \"different expansions\")\n",
    "print_output(dict_diff_exp, \"different expansions\")"
   ]
  },
  {
   "cell_type": "code",
   "execution_count": null,
   "id": "eb16481c-4515-4809-90c3-be21f76aea22",
   "metadata": {},
   "outputs": [],
   "source": []
  }
 ],
 "metadata": {
  "kernelspec": {
   "display_name": "Python 3 (ipykernel)",
   "language": "python",
   "name": "python3"
  },
  "language_info": {
   "codemirror_mode": {
    "name": "ipython",
    "version": 3
   },
   "file_extension": ".py",
   "mimetype": "text/x-python",
   "name": "python",
   "nbconvert_exporter": "python",
   "pygments_lexer": "ipython3",
   "version": "3.10.14"
  }
 },
 "nbformat": 4,
 "nbformat_minor": 5
}
