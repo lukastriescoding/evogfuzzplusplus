{
 "cells": [
  {
   "cell_type": "markdown",
   "id": "d91fa576-adaf-443a-80c3-2a3bb4123d99",
   "metadata": {},
   "source": [
    "\n",
    "# Evalutating different fitness functions for EvoGFuzz\n",
    "\n",
    "In our project we implement the three given fitness functions with a ```naive```, an ```improved``` and a ```sophisticated``` approach, that were given in the **EvoGFuzz** paper. We then came up with a new approach that uses and aims to improve the ```sophisticated``` approach. We call it the ```ratioed sophisticated``` approach. In this notebook we evaluate each of the approach.\n"
   ]
  },
  {
   "cell_type": "markdown",
   "id": "d7cf7e2c-3e9c-42d5-b751-1e3e71a4dc76",
   "metadata": {},
   "source": [
    "We use the same example as **EvoGFuzz** and therefore need to define our calculator, its oracle and the grammar."
   ]
  },
  {
   "cell_type": "code",
   "execution_count": 1,
   "id": "186170a4-b347-49b8-ac40-0da6b3dc076b",
   "metadata": {},
   "outputs": [],
   "source": [
    "import math\n",
    "\n",
    "def calculator(inp: str) -> float:\n",
    "    return eval(\n",
    "        str(inp), {\"sqrt\": math.sqrt, \"sin\": math.sin, \"cos\": math.cos, \"tan\": math.tan}\n",
    "    )"
   ]
  },
  {
   "cell_type": "code",
   "execution_count": 2,
   "id": "d6c1f759-8299-415d-8fa1-8ad83d70661d",
   "metadata": {},
   "outputs": [],
   "source": [
    "# Make sure you use the OracleResult from the debugging_framework library\n",
    "from debugging_framework.input.oracle import OracleResult\n",
    "\n",
    "def oracle(inp: str):\n",
    "    try:\n",
    "        calculator(inp)\n",
    "    except ValueError as e:\n",
    "        return OracleResult.FAILING\n",
    "    \n",
    "    return OracleResult.PASSING"
   ]
  },
  {
   "cell_type": "code",
   "execution_count": 3,
   "id": "db32f501-66e9-4e02-9606-caee823f543f",
   "metadata": {},
   "outputs": [],
   "source": [
    "from debugging_framework.types import Grammar\n",
    "from debugging_framework.fuzzingbook.grammar import is_valid_grammar\n",
    "\n",
    "CALCGRAMMAR: Grammar = {\n",
    "    \"<start>\":\n",
    "        [\"<function>(<term>)\"],\n",
    "\n",
    "    \"<function>\":\n",
    "        [\"sqrt\", \"tan\", \"cos\", \"sin\"],\n",
    "    \n",
    "    \"<term>\": [\"-<value>\", \"<value>\"], \n",
    "    \n",
    "    \"<value>\":\n",
    "        [\"<integer>.<integer>\",\n",
    "         \"<integer>\"],\n",
    "\n",
    "    \"<integer>\":\n",
    "        [\"<digit><integer>\", \"<digit>\"],\n",
    "\n",
    "    \"<digit>\":\n",
    "        [\"1\", \"2\", \"3\", \"4\", \"5\", \"6\", \"7\", \"8\", \"9\"]\n",
    "}\n",
    "    \n",
    "assert is_valid_grammar(CALCGRAMMAR)"
   ]
  },
  {
   "cell_type": "markdown",
   "id": "d7d27748-79f2-46d4-922f-9af87de5e8e2",
   "metadata": {},
   "source": [
    "For the new fitness functions we also need to define some helper functions, that we use later on. \n",
    "\n",
    "We start by defining a function ```count_expansions``` for the ```improved``` approach, that returns the expansions of a tree, when given the first children of the root of the derivation tree.\n",
    "\n",
    "We then define the ```calculate_sophisticated_score_structure``` function, that calculated the score structure which considers more complex expansions that are more nested. We sum up the degree exponantiated with the height of the individual nodes."
   ]
  },
  {
   "cell_type": "code",
   "execution_count": 4,
   "id": "b31c854a-7b75-4cf4-a082-a22ed206b041",
   "metadata": {},
   "outputs": [],
   "source": [
    "def count_expansions(children):\n",
    "    if children == []:\n",
    "        return 0\n",
    "\n",
    "    counter = 1\n",
    "\n",
    "    for child in children:\n",
    "        _, next_children = child\n",
    "        counter += count_expansions(next_children)    \n",
    "    \n",
    "    return counter"
   ]
  },
  {
   "cell_type": "code",
   "execution_count": 5,
   "id": "5e8f2626-29bf-4de3-b0fb-d8312ffd1e7f",
   "metadata": {},
   "outputs": [],
   "source": [
    "def calculate_sophisticated_score_structure(children, height):\n",
    "    score = 0\n",
    "    \n",
    "    for child in children:\n",
    "        node, next_children = child        \n",
    "        score += len(next_children)**height\n",
    "        score += calculate_sophisticated_score_structure(next_children, height+1)\n",
    "\n",
    "    return score"
   ]
  },
  {
   "cell_type": "code",
   "execution_count": 6,
   "id": "881002b2-02fc-4609-9ba8-108ee99f1e87",
   "metadata": {},
   "outputs": [],
   "source": [
    "def calculate_height_and_degreeSum(children, height):\n",
    "    max_height = height\n",
    "    score = 0\n",
    "    \n",
    "    for child in children:\n",
    "        node, next_children = child\n",
    "        score += len(next_children)**height\n",
    "        next_score, next_height = calculate_height_and_degreeSum(next_children, height+1)\n",
    "        score += next_score\n",
    "        if next_height > max_height:\n",
    "            max_height = next_height\n",
    "            \n",
    "    return score, max_height"
   ]
  },
  {
   "cell_type": "markdown",
   "id": "beee25d2-1432-46aa-9b2f-b60f5fa2e8a1",
   "metadata": {},
   "source": [
    "Fitness functions:\n",
    "TODO"
   ]
  },
  {
   "cell_type": "code",
   "execution_count": 7,
   "id": "1c59e65b-ddb4-41ec-9d99-be8594b7048b",
   "metadata": {},
   "outputs": [],
   "source": [
    "from evogfuzz.input import Input"
   ]
  },
  {
   "cell_type": "code",
   "execution_count": 8,
   "id": "3dc16d4e-d9a6-4002-a342-73232114e646",
   "metadata": {},
   "outputs": [],
   "source": [
    "def naive_fitness_function(test_input: Input) -> int:\n",
    "    score_structure = len(str(test_input))\n",
    "    if test_input.oracle == OracleResult.FAILING:\n",
    "        score_feedback = 100\n",
    "    else:\n",
    "        score_feedback = 0\n",
    "    return score_feedback + score_structure"
   ]
  },
  {
   "cell_type": "code",
   "execution_count": 9,
   "id": "5f9548d2-968a-43c0-93cf-b420d48d9084",
   "metadata": {},
   "outputs": [],
   "source": [
    "def improved_fitness_function(test_input: Input) -> float:\n",
    "    _, children = test_input.tree\n",
    "    number_expansions = count_expansions(children)\n",
    "    lam = 100\n",
    "    score_structure = (number_expansions**2)/(lam * len(str(test_input)))\n",
    "    if test_input.oracle == OracleResult.FAILING:\n",
    "        score_feedback = 100\n",
    "    else:\n",
    "        score_feedback = 0\n",
    "    return score_feedback + score_structure"
   ]
  },
  {
   "cell_type": "code",
   "execution_count": 10,
   "id": "39c51bdc-5585-4eb8-82f1-a9e94d492d58",
   "metadata": {},
   "outputs": [],
   "source": [
    "def sophisticated_fitness_function(test_input: Input) -> float:\n",
    "    score_structure = calculate_sophisticated_score_structure([test_input.tree],0)\n",
    "    if test_input.oracle == OracleResult.FAILING:\n",
    "        score_feedback = 2**100\n",
    "    else:\n",
    "        score_feedback = 0\n",
    "    return score_feedback + score_structure"
   ]
  },
  {
   "cell_type": "code",
   "execution_count": 11,
   "id": "4c530426-b757-4d58-9b44-19bc8ebf6a5e",
   "metadata": {},
   "outputs": [],
   "source": [
    "def ratio_sophisticated_fitness_function(test_input: Input) -> float:\n",
    "    lam = 2**50\n",
    "    degreeSums, height = calculate_height_and_degreeSum([test_input.tree],0)\n",
    "    score_structure = degreeSums/(lam * height)\n",
    "    if test_input.oracle == OracleResult.FAILING:\n",
    "        score_feedback = 100\n",
    "    else:\n",
    "        score_feedback = 0\n",
    "    return score_feedback + score_structure"
   ]
  },
  {
   "cell_type": "markdown",
   "id": "8851efeb-634f-4951-88a8-4d2a2c916566",
   "metadata": {},
   "source": [
    "Finally we can define EvoGFuzz instances with all different fitness functions. For comparison, we start with defining an instance with the standard fitness function and thereafter define one for each of ours.\n"
   ]
  },
  {
   "cell_type": "code",
   "execution_count": 18,
   "id": "799ffbbb-d605-4c99-afbb-2004f8e9148d",
   "metadata": {},
   "outputs": [],
   "source": [
    "from evogfuzz.evogfuzz_class import EvoGFuzz\n",
    "\n",
    "def eval_fitness(eval_iterations,initial_inputs,iterations):\n",
    "    \"\"\"\n",
    "    Evaluate the differnet fitness functions.\n",
    "    :param eval_iterations: The number of iterations we use to calculate the found exception inputs.\n",
    "    :param initial_inputs: The input from which EvoGFuzz starts to train.\n",
    "    :param itarations: The number of iterations EvoGFuzz trains.\n",
    "    :return: The total number of found exception inputs per iteration.\n",
    "    \"\"\"   \n",
    "    \n",
    "    dict_stand = {i:0 for i in range(eval_iterations)}\n",
    "    dict_naive = {i:0 for i in range(eval_iterations)}\n",
    "    dict_impr = {i:0 for i in range(eval_iterations)}\n",
    "    dict_soph = {i:0 for i in range(eval_iterations)}\n",
    "    dict_ratio_soph = {i:0 for i in range(eval_iterations)}\n",
    "    \n",
    "    for i in range(eval_iterations):\n",
    "        epp_stand = EvoGFuzz(\n",
    "            grammar=CALCGRAMMAR,\n",
    "            oracle=oracle,\n",
    "            inputs=initial_inputs,\n",
    "            iterations=iterations\n",
    "        )\n",
    "        \n",
    "        epp_naive = EvoGFuzz(\n",
    "            grammar=CALCGRAMMAR,\n",
    "            oracle=oracle,\n",
    "            inputs=initial_inputs,\n",
    "            fitness_function=naive_fitness_function,\n",
    "            iterations=iterations\n",
    "        )\n",
    "        \n",
    "        epp_impr = EvoGFuzz(\n",
    "            grammar=CALCGRAMMAR,\n",
    "            oracle=oracle,\n",
    "            inputs=initial_inputs,\n",
    "            fitness_function=improved_fitness_function,\n",
    "            iterations=iterations\n",
    "        )\n",
    "        \n",
    "        epp_soph = EvoGFuzz(\n",
    "            grammar=CALCGRAMMAR,\n",
    "            oracle=oracle,\n",
    "            inputs=initial_inputs,\n",
    "            fitness_function=sophisticated_fitness_function,\n",
    "            iterations=iterations\n",
    "        )\n",
    "\n",
    "        epp_ratio_soph = EvoGFuzz(\n",
    "            grammar=CALCGRAMMAR,\n",
    "            oracle=oracle,\n",
    "            inputs=initial_inputs,\n",
    "            fitness_function=ratio_sophisticated_fitness_function,\n",
    "            iterations=iterations\n",
    "        )\n",
    "        \n",
    "        found_exc_inp_stand = epp_stand.fuzz()\n",
    "        print(\"standard keys:\", found_exc_inp_stand.keys())\n",
    "        for iteration in found_exc_inp_stand.keys():\n",
    "            dict_stand[iteration] += len(found_exc_inp_stand[iteration])\n",
    "        \n",
    "        found_exc_inp_naive = epp_naive.fuzz()\n",
    "        for iteration in found_exc_inp_stand.keys():\n",
    "            dict_naive[iteration] += len(found_exc_inp_naive[iteration])\n",
    "            \n",
    "        found_exc_inp_impr = epp_impr.fuzz()\n",
    "        for iteration in found_exc_inp_stand.keys():\n",
    "            dict_impr[iteration] += len(found_exc_inp_impr[iteration])\n",
    "            \n",
    "        found_exc_inp_soph = epp_soph.fuzz()\n",
    "        for iteration in found_exc_inp_stand.keys():\n",
    "            dict_soph[iteration] += len(found_exc_inp_soph[iteration])\n",
    "            \n",
    "        found_exc_inp_ratio_soph = epp_ratio_soph.fuzz()\n",
    "        for iteration in found_exc_inp_stand.keys():\n",
    "            dict_ratio_soph[iteration] += len(found_exc_inp_ratio_soph[iteration])\n",
    "\n",
    "    return dict_stand, dict_naive, dict_impr, dict_soph, dict_ratio_soph\n"
   ]
  },
  {
   "cell_type": "code",
   "execution_count": 19,
   "id": "85acca60-d147-48ca-b2c7-60f8aac2796d",
   "metadata": {},
   "outputs": [],
   "source": [
    "def print_output(dict_found_exc_inp, fitness):\n",
    "    print(fitness, end=\"\\n\")\n",
    "    for iteration in dict_found_exc_inp.keys():\n",
    "        print(iteration, \":\", dict_found_exc_inp[iteration], end=\"\\n\\n\\n\")\n",
    "    "
   ]
  },
  {
   "cell_type": "code",
   "execution_count": 20,
   "id": "39eff4df-2c0d-43e5-993f-f009a74e16ac",
   "metadata": {},
   "outputs": [
    {
     "name": "stdout",
     "output_type": "stream",
     "text": [
      "standard keys: dict_keys([0, 1, 2, 3, 4, 5, 6, 7, 8, 9])\n"
     ]
    },
    {
     "ename": "KeyError",
     "evalue": "1",
     "output_type": "error",
     "traceback": [
      "\u001b[0;31m---------------------------------------------------------------------------\u001b[0m",
      "\u001b[0;31mKeyError\u001b[0m                                  Traceback (most recent call last)",
      "Cell \u001b[0;32mIn[20], line 3\u001b[0m\n\u001b[1;32m      1\u001b[0m initial_inputs \u001b[38;5;241m=\u001b[39m [\u001b[38;5;124m'\u001b[39m\u001b[38;5;124msqrt(1)\u001b[39m\u001b[38;5;124m'\u001b[39m, \u001b[38;5;124m'\u001b[39m\u001b[38;5;124mcos(912)\u001b[39m\u001b[38;5;124m'\u001b[39m, \u001b[38;5;124m'\u001b[39m\u001b[38;5;124mtan(4)\u001b[39m\u001b[38;5;124m'\u001b[39m]\n\u001b[0;32m----> 3\u001b[0m dict_stand, dict_naive, dict_impr, dict_soph, dict_ratio_soph \u001b[38;5;241m=\u001b[39m \u001b[43meval_fitness\u001b[49m\u001b[43m(\u001b[49m\u001b[43meval_iterations\u001b[49m\u001b[38;5;241;43m=\u001b[39;49m\u001b[38;5;241;43m1\u001b[39;49m\u001b[43m,\u001b[49m\u001b[43m \u001b[49m\u001b[43minitial_inputs\u001b[49m\u001b[38;5;241;43m=\u001b[39;49m\u001b[43minitial_inputs\u001b[49m\u001b[43m,\u001b[49m\u001b[43m \u001b[49m\u001b[43miterations\u001b[49m\u001b[38;5;241;43m=\u001b[39;49m\u001b[38;5;241;43m10\u001b[39;49m\u001b[43m)\u001b[49m\n\u001b[1;32m      5\u001b[0m print_output(dict_stand, \u001b[38;5;124m\"\u001b[39m\u001b[38;5;124mstandard\u001b[39m\u001b[38;5;124m\"\u001b[39m)\n\u001b[1;32m      6\u001b[0m print_output(dict_naive, \u001b[38;5;124m\"\u001b[39m\u001b[38;5;124mnaive\u001b[39m\u001b[38;5;124m\"\u001b[39m)\n",
      "Cell \u001b[0;32mIn[18], line 61\u001b[0m, in \u001b[0;36meval_fitness\u001b[0;34m(eval_iterations, initial_inputs, iterations)\u001b[0m\n\u001b[1;32m     59\u001b[0m \u001b[38;5;28mprint\u001b[39m(\u001b[38;5;124m\"\u001b[39m\u001b[38;5;124mstandard keys:\u001b[39m\u001b[38;5;124m\"\u001b[39m, found_exc_inp_stand\u001b[38;5;241m.\u001b[39mkeys())\n\u001b[1;32m     60\u001b[0m \u001b[38;5;28;01mfor\u001b[39;00m iteration \u001b[38;5;129;01min\u001b[39;00m found_exc_inp_stand\u001b[38;5;241m.\u001b[39mkeys():\n\u001b[0;32m---> 61\u001b[0m     dict_stand[iteration] \u001b[38;5;241m+\u001b[39m\u001b[38;5;241m=\u001b[39m \u001b[38;5;28mlen\u001b[39m(found_exc_inp_stand[iteration])\n\u001b[1;32m     63\u001b[0m found_exc_inp_naive \u001b[38;5;241m=\u001b[39m epp_naive\u001b[38;5;241m.\u001b[39mfuzz()\n\u001b[1;32m     64\u001b[0m \u001b[38;5;28;01mfor\u001b[39;00m iteration \u001b[38;5;129;01min\u001b[39;00m found_exc_inp_stand\u001b[38;5;241m.\u001b[39mkeys():\n",
      "\u001b[0;31mKeyError\u001b[0m: 1"
     ]
    }
   ],
   "source": [
    "initial_inputs = ['sqrt(1)', 'cos(912)', 'tan(4)']\n",
    "\n",
    "dict_stand, dict_naive, dict_impr, dict_soph, dict_ratio_soph = eval_fitness(eval_iterations=1, initial_inputs=initial_inputs, iterations=10)\n",
    "\n",
    "print_output(dict_stand, \"standard\")\n",
    "print_output(dict_naive, \"naive\")\n",
    "print_output(dict_impr, \"improved\")\n",
    "print_output(dict_soph, \"sophisticated\")\n",
    "print_output(dict_ratio_soph, \"ratio_sophisticated\")"
   ]
  },
  {
   "cell_type": "code",
   "execution_count": null,
   "id": "f3a096cd-69e6-48ca-a0de-86837c7c77fb",
   "metadata": {},
   "outputs": [],
   "source": []
  },
  {
   "cell_type": "code",
   "execution_count": null,
   "id": "33b3b8cb-afa7-49ec-b4f0-a862107fd81b",
   "metadata": {},
   "outputs": [],
   "source": []
  }
 ],
 "metadata": {
  "kernelspec": {
   "display_name": "Python 3 (ipykernel)",
   "language": "python",
   "name": "python3"
  },
  "language_info": {
   "codemirror_mode": {
    "name": "ipython",
    "version": 3
   },
   "file_extension": ".py",
   "mimetype": "text/x-python",
   "name": "python",
   "nbconvert_exporter": "python",
   "pygments_lexer": "ipython3",
   "version": "3.10.14"
  }
 },
 "nbformat": 4,
 "nbformat_minor": 5
}
